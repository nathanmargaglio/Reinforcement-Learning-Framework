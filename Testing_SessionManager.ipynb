{
 "cells": [
  {
   "cell_type": "code",
   "execution_count": 4,
   "metadata": {},
   "outputs": [
    {
     "name": "stdout",
     "output_type": "stream",
     "text": [
      "The autoreload extension is already loaded. To reload it, use:\n",
      "  %reload_ext autoreload\n"
     ]
    }
   ],
   "source": [
    "%load_ext autoreload\n",
    "%autoreload 2\n",
    "\n",
    "from pprint import pprint\n",
    "import numpy as np\n",
    "from SessionManager import SessionManager, Session, Episode, Step, Agent\n",
    "from sqlalchemy import desc, asc"
   ]
  },
  {
   "cell_type": "code",
   "execution_count": 5,
   "metadata": {},
   "outputs": [
    {
     "name": "stdout",
     "output_type": "stream",
     "text": [
      "_get_parent_from_rule: max-reward\n"
     ]
    },
    {
     "name": "stderr",
     "output_type": "stream",
     "text": [
      "/home/nathan/.conda/envs/tensorflow/lib/python3.6/site-packages/gym/envs/registration.py:14: PkgResourcesDeprecationWarning: Parameters to load are deprecated.  Call .resolve and .require separately.\n",
      "  result = entry_point.load(False)\n"
     ]
    }
   ],
   "source": [
    "sm = SessionManager()\n",
    "sm.configure(['--env-name', 'CartPole-v1'])\n",
    "sm.initialize_session()\n",
    "sm.train()"
   ]
  },
  {
   "cell_type": "code",
   "execution_count": 15,
   "metadata": {},
   "outputs": [
    {
     "name": "stdout",
     "output_type": "stream",
     "text": [
      "\u001b[33mWARN: gym.spaces.Box autodetected dtype as <class 'numpy.float32'>. Please provide explicit dtype.\u001b[0m\n"
     ]
    }
   ],
   "source": [
    "sm.train()"
   ]
  },
  {
   "cell_type": "code",
   "execution_count": 42,
   "metadata": {},
   "outputs": [
    {
     "name": "stdout",
     "output_type": "stream",
     "text": [
      "{'agent_id': 1,\n",
      " 'average_reward': 1.8,\n",
      " 'commit': 'fa33483a0b4bf62868a84ec29abc97b191eb9ada',\n",
      " 'created_at': '2019-02-03 21:48:41.472770',\n",
      " 'env_name': 'Test',\n",
      " 'episode_iterations': 100,\n",
      " 'git_url': 'git@github.com:nathanmargaglio/Reinforcement-Learning-Framework.git',\n",
      " 'id': 4,\n",
      " 'iteration': 1,\n",
      " 'parent_id': 1,\n",
      " 'save': False,\n",
      " 'updated_at': '2019-02-03 21:48:48.594734'}\n",
      "{'agent_id': 1,\n",
      " 'average_reward': None,\n",
      " 'commit': 'c2d06e02c0ed22104a17fe05d31410634182c26f',\n",
      " 'created_at': '2019-02-05 13:32:57.244276',\n",
      " 'env_name': 'Test',\n",
      " 'episode_iterations': 100,\n",
      " 'git_url': 'git@github.com:nathanmargaglio/Reinforcement-Learning-Framework.git',\n",
      " 'id': 6,\n",
      " 'iteration': 1,\n",
      " 'parent_id': 1,\n",
      " 'save': False,\n",
      " 'updated_at': 'None'}\n",
      "{'agent_id': 1,\n",
      " 'average_reward': 1.63,\n",
      " 'commit': 'fa33483a0b4bf62868a84ec29abc97b191eb9ada',\n",
      " 'created_at': '2019-02-03 21:48:34.012067',\n",
      " 'env_name': 'Test',\n",
      " 'episode_iterations': 100,\n",
      " 'git_url': 'git@github.com:nathanmargaglio/Reinforcement-Learning-Framework.git',\n",
      " 'id': 3,\n",
      " 'iteration': 1,\n",
      " 'parent_id': 1,\n",
      " 'save': False,\n",
      " 'updated_at': '2019-02-03 21:48:41.366665'}\n",
      "{'agent_id': 1,\n",
      " 'average_reward': 4.252,\n",
      " 'commit': 'c2d06e02c0ed22104a17fe05d31410634182c26f',\n",
      " 'created_at': '2019-02-05 14:52:28.233264',\n",
      " 'env_name': 'Test',\n",
      " 'episode_iterations': 1000,\n",
      " 'git_url': 'git@github.com:nathanmargaglio/Reinforcement-Learning-Framework.git',\n",
      " 'id': 13,\n",
      " 'iteration': 3,\n",
      " 'parent_id': 12,\n",
      " 'save': False,\n",
      " 'updated_at': '2019-02-05 14:54:15.376128'}\n",
      "{'agent_id': 1,\n",
      " 'average_reward': 1.835,\n",
      " 'commit': 'c2d06e02c0ed22104a17fe05d31410634182c26f',\n",
      " 'created_at': '2019-02-05 13:33:02.621248',\n",
      " 'env_name': 'Test',\n",
      " 'episode_iterations': 100,\n",
      " 'git_url': 'git@github.com:nathanmargaglio/Reinforcement-Learning-Framework.git',\n",
      " 'id': 7,\n",
      " 'iteration': 1,\n",
      " 'parent_id': 1,\n",
      " 'save': False,\n",
      " 'updated_at': '2019-02-05 13:41:25.818512'}\n",
      "{'agent_id': 1,\n",
      " 'average_reward': 4.214,\n",
      " 'commit': 'c2d06e02c0ed22104a17fe05d31410634182c26f',\n",
      " 'created_at': '2019-02-05 14:54:27.126844',\n",
      " 'env_name': 'Test',\n",
      " 'episode_iterations': 1000,\n",
      " 'git_url': 'git@github.com:nathanmargaglio/Reinforcement-Learning-Framework.git',\n",
      " 'id': 14,\n",
      " 'iteration': 4,\n",
      " 'parent_id': 13,\n",
      " 'save': False,\n",
      " 'updated_at': '2019-02-05 14:56:18.057443'}\n",
      "{'agent_id': 1,\n",
      " 'average_reward': 1.97,\n",
      " 'commit': 'fa33483a0b4bf62868a84ec29abc97b191eb9ada',\n",
      " 'created_at': '2019-02-03 21:48:26.141031',\n",
      " 'env_name': 'Test',\n",
      " 'episode_iterations': 100,\n",
      " 'git_url': 'git@github.com:nathanmargaglio/Reinforcement-Learning-Framework.git',\n",
      " 'id': 2,\n",
      " 'iteration': 1,\n",
      " 'parent_id': 1,\n",
      " 'save': False,\n",
      " 'updated_at': '2019-02-03 21:48:33.901848'}\n",
      "{'agent_id': 1,\n",
      " 'average_reward': 2.24,\n",
      " 'commit': 'c2d06e02c0ed22104a17fe05d31410634182c26f',\n",
      " 'created_at': '2019-02-05 13:42:07.167299',\n",
      " 'env_name': 'Test',\n",
      " 'episode_iterations': 100,\n",
      " 'git_url': 'git@github.com:nathanmargaglio/Reinforcement-Learning-Framework.git',\n",
      " 'id': 8,\n",
      " 'iteration': 1,\n",
      " 'parent_id': 1,\n",
      " 'save': False,\n",
      " 'updated_at': '2019-02-05 13:42:16.368777'}\n",
      "{'agent_id': 1,\n",
      " 'average_reward': 2.27,\n",
      " 'commit': 'fa33483a0b4bf62868a84ec29abc97b191eb9ada',\n",
      " 'created_at': '2019-02-03 21:48:17.921480',\n",
      " 'env_name': 'Test',\n",
      " 'episode_iterations': 100,\n",
      " 'git_url': 'git@github.com:nathanmargaglio/Reinforcement-Learning-Framework.git',\n",
      " 'id': 1,\n",
      " 'iteration': 0,\n",
      " 'parent_id': None,\n",
      " 'save': False,\n",
      " 'updated_at': '2019-02-03 21:48:25.997575'}\n",
      "{'agent_id': 1,\n",
      " 'average_reward': 3.923,\n",
      " 'commit': 'c2d06e02c0ed22104a17fe05d31410634182c26f',\n",
      " 'created_at': '2019-02-05 14:43:26.892085',\n",
      " 'env_name': 'Test',\n",
      " 'episode_iterations': 1000,\n",
      " 'git_url': 'git@github.com:nathanmargaglio/Reinforcement-Learning-Framework.git',\n",
      " 'id': 11,\n",
      " 'iteration': 1,\n",
      " 'parent_id': 1,\n",
      " 'save': False,\n",
      " 'updated_at': '2019-02-05 14:45:03.757593'}\n",
      "{'agent_id': 1,\n",
      " 'average_reward': 4.04,\n",
      " 'commit': 'c2d06e02c0ed22104a17fe05d31410634182c26f',\n",
      " 'created_at': '2019-02-05 14:47:59.735522',\n",
      " 'env_name': 'Test',\n",
      " 'episode_iterations': 1000,\n",
      " 'git_url': 'git@github.com:nathanmargaglio/Reinforcement-Learning-Framework.git',\n",
      " 'id': 12,\n",
      " 'iteration': 2,\n",
      " 'parent_id': 11,\n",
      " 'save': False,\n",
      " 'updated_at': '2019-02-05 14:49:44.666875'}\n",
      "{'agent_id': 1,\n",
      " 'average_reward': 2.12,\n",
      " 'commit': 'c2d06e02c0ed22104a17fe05d31410634182c26f',\n",
      " 'created_at': '2019-02-05 14:42:30.030564',\n",
      " 'env_name': 'Test',\n",
      " 'episode_iterations': 100,\n",
      " 'git_url': 'git@github.com:nathanmargaglio/Reinforcement-Learning-Framework.git',\n",
      " 'id': 9,\n",
      " 'iteration': 1,\n",
      " 'parent_id': 1,\n",
      " 'save': False,\n",
      " 'updated_at': '2019-02-05 14:42:38.991630'}\n",
      "{'agent_id': 1,\n",
      " 'average_reward': None,\n",
      " 'commit': 'c2d06e02c0ed22104a17fe05d31410634182c26f',\n",
      " 'created_at': '2019-02-05 14:43:24.283012',\n",
      " 'env_name': 'Test',\n",
      " 'episode_iterations': 1000,\n",
      " 'git_url': 'git@github.com:nathanmargaglio/Reinforcement-Learning-Framework.git',\n",
      " 'id': 10,\n",
      " 'iteration': 1,\n",
      " 'parent_id': 1,\n",
      " 'save': False,\n",
      " 'updated_at': 'None'}\n",
      "{'agent_id': 1,\n",
      " 'average_reward': 2.04,\n",
      " 'commit': 'fa33483a0b4bf62868a84ec29abc97b191eb9ada',\n",
      " 'created_at': '2019-02-03 21:49:31.473192',\n",
      " 'env_name': 'Test',\n",
      " 'episode_iterations': 100,\n",
      " 'git_url': 'git@github.com:nathanmargaglio/Reinforcement-Learning-Framework.git',\n",
      " 'id': 5,\n",
      " 'iteration': 1,\n",
      " 'parent_id': 1,\n",
      " 'save': False,\n",
      " 'updated_at': '2019-02-03 21:49:40.512359'}\n",
      "{'agent_id': 1,\n",
      " 'average_reward': 4.326,\n",
      " 'commit': 'c2d06e02c0ed22104a17fe05d31410634182c26f',\n",
      " 'created_at': '2019-02-05 14:59:22.420849',\n",
      " 'env_name': 'Test',\n",
      " 'episode_iterations': 1000,\n",
      " 'git_url': 'git@github.com:nathanmargaglio/Reinforcement-Learning-Framework.git',\n",
      " 'id': 15,\n",
      " 'iteration': 4,\n",
      " 'parent_id': 13,\n",
      " 'save': False,\n",
      " 'updated_at': '2019-02-05 15:01:17.866983'}\n"
     ]
    },
    {
     "data": {
      "text/plain": [
       "[None,\n",
       " None,\n",
       " None,\n",
       " None,\n",
       " None,\n",
       " None,\n",
       " None,\n",
       " None,\n",
       " None,\n",
       " None,\n",
       " None,\n",
       " None,\n",
       " None,\n",
       " None,\n",
       " None]"
      ]
     },
     "execution_count": 42,
     "metadata": {},
     "output_type": "execute_result"
    }
   ],
   "source": [
    "sessions = sm.db.query(Session).all()\n",
    "[pprint(s()) for s in sessions]"
   ]
  },
  {
   "cell_type": "code",
   "execution_count": 42,
   "metadata": {},
   "outputs": [],
   "source": [
    "ss = sm.db.query(Session).filter(Session.average_reward != None).order_by(desc(Session.average_reward)).limit(1).first()"
   ]
  },
  {
   "cell_type": "code",
   "execution_count": 43,
   "metadata": {},
   "outputs": [
    {
     "data": {
      "text/plain": [
       "{'id': 4,\n",
       " 'agent_id': 1,\n",
       " 'iteration': 1,\n",
       " 'parent_id': 1,\n",
       " 'env_name': 'CartPole-v1',\n",
       " 'commit': 'feef789b3aead6f5694a3038254d1f2bf2bfc377',\n",
       " 'gir_url': 'git@github.com:nathanmargaglio/Reinforcement-Learning-Framework.git',\n",
       " 'average_reward': 90.26,\n",
       " 'episode_iterations': 100,\n",
       " 'created_at': '2019-02-03 16:24:40.579593',\n",
       " 'updated_at': '2019-02-03 16:25:55.800923'}"
      ]
     },
     "execution_count": 43,
     "metadata": {},
     "output_type": "execute_result"
    }
   ],
   "source": [
    "ss()"
   ]
  },
  {
   "cell_type": "code",
   "execution_count": 41,
   "metadata": {},
   "outputs": [],
   "source": [
    "sm.db.commit()"
   ]
  },
  {
   "cell_type": "code",
   "execution_count": 29,
   "metadata": {},
   "outputs": [
    {
     "data": {
      "text/plain": [
       "[61.07, 83.13, 112.35]"
      ]
     },
     "execution_count": 29,
     "metadata": {},
     "output_type": "execute_result"
    }
   ],
   "source": [
    "[s.average_reward for s in sessions]"
   ]
  },
  {
   "cell_type": "code",
   "execution_count": 30,
   "metadata": {},
   "outputs": [
    {
     "data": {
      "text/plain": [
       "{'id': 1,\n",
       " 'agent_id': 1,\n",
       " 'iteration': 0,\n",
       " 'parent_id': None,\n",
       " 'env_name': 'CartPole-v1',\n",
       " 'commit': 'feef789b3aead6f5694a3038254d1f2bf2bfc377',\n",
       " 'gir_url': 'git@github.com:nathanmargaglio/Reinforcement-Learning-Framework.git',\n",
       " 'average_reward': 112.35,\n",
       " 'episode_iterations': 100,\n",
       " 'created_at': '2019-02-03 16:15:36.126489',\n",
       " 'updated_at': '2019-02-03 16:17:58.330766'}"
      ]
     },
     "execution_count": 30,
     "metadata": {},
     "output_type": "execute_result"
    }
   ],
   "source": [
    "session = sessions[-1]\n",
    "session()"
   ]
  },
  {
   "cell_type": "code",
   "execution_count": 43,
   "metadata": {},
   "outputs": [
    {
     "name": "stdout",
     "output_type": "stream",
     "text": [
      "{'config': {},\n",
      " 'created_at': '2019-02-03 21:48:17.852505',\n",
      " 'id': 1,\n",
      " 'name': None,\n",
      " 'save': False,\n",
      " 'summary': None}\n"
     ]
    },
    {
     "data": {
      "text/plain": [
       "[None]"
      ]
     },
     "execution_count": 43,
     "metadata": {},
     "output_type": "execute_result"
    }
   ],
   "source": [
    "agents = sm.db.query(Agent).all()\n",
    "[pprint(a()) for a in agents]"
   ]
  },
  {
   "cell_type": "code",
   "execution_count": null,
   "metadata": {},
   "outputs": [],
   "source": []
  }
 ],
 "metadata": {
  "kernelspec": {
   "display_name": "Tensorflow",
   "language": "python",
   "name": "tensorflow"
  },
  "language_info": {
   "codemirror_mode": {
    "name": "ipython",
    "version": 3
   },
   "file_extension": ".py",
   "mimetype": "text/x-python",
   "name": "python",
   "nbconvert_exporter": "python",
   "pygments_lexer": "ipython3",
   "version": "3.6.8"
  }
 },
 "nbformat": 4,
 "nbformat_minor": 2
}
