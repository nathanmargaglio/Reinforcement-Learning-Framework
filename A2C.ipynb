{
 "cells": [
  {
   "cell_type": "code",
   "execution_count": null,
   "metadata": {},
   "outputs": [
    {
     "name": "stdout",
     "output_type": "stream",
     "text": [
      "\u001b[33mWARN: gym.spaces.Box autodetected dtype as <class 'numpy.float32'>. Please provide explicit dtype.\u001b[0m\n"
     ]
    }
   ],
   "source": [
    "for i in range(10):\n",
    "    start_time = time.time()\n",
    "    envs = [lambda: gym.make('CartPole-v0') for x in range(1)]\n",
    "    venv = ParallelEnvironment(envs)\n",
    "    agent = PPOAgent(venv, buffer_size=64)\n",
    "    agent.run(50)\n",
    "    print(\"{:.3f}\".format(time.time() - start_time))"
   ]
  },
  {
   "cell_type": "code",
   "execution_count": null,
   "metadata": {},
   "outputs": [],
   "source": [
    "import threading\n",
    "from IPython.display import display\n",
    "import ipywidgets as widgets\n",
    "from sidecar import Sidecar"
   ]
  },
  {
   "cell_type": "code",
   "execution_count": null,
   "metadata": {},
   "outputs": [],
   "source": [
    "run_dir = \"./runs/agent-27/data/\"\n",
    "line_limit = 10\n",
    "log_path = run_dir + 'agent.txt'\n",
    "log_val = []\n",
    "kill_thread = False\n",
    "last_frame_count = 0\n",
    "empty_frame_count = 0\n",
    "\n",
    "def update_log():\n",
    "    log_val = ['<li><code style=\"font-size: 10px;\">{}</code></li>'.format(line) for \n",
    "               line in list(open(log_path))[-line_limit:]]\n",
    "    log_widget.value = '<ul style=\"list-style-type: none; padding: 0;\">' + ''.join(log_val) + '</ul>'\n",
    "    \n",
    "def on_change(x):\n",
    "    if (x['name'] == 'value'):\n",
    "        update_image(x['new'])\n",
    "        \n",
    "def kill_thread_click(x):\n",
    "    global kill_thread\n",
    "    kill_thread = True\n",
    "        \n",
    "def live_update():\n",
    "    global last_frame_count\n",
    "    global empty_frame_count\n",
    "    while True:\n",
    "        update_count_widget.value = \"Last Update: \" + time.strftime('%c')\n",
    "        update_log()\n",
    "        if last_frame_count == frame_count:\n",
    "            empty_frame_count += 1\n",
    "        else:\n",
    "            last_frame_count = frame_count\n",
    "            empty_frame_count = 0\n",
    "        if empty_frame_count > 10 or kill_thread:\n",
    "            update_count_widget.value = 'Halted: ' + time.strftime('%c')\n",
    "            break\n",
    "        time.sleep(1)\n",
    "\n",
    "play_widget = widgets.Play(\n",
    "    interval=250,\n",
    "    value=frame_count,\n",
    "    min=0,\n",
    "    max=frame_count,\n",
    "    step=1,\n",
    "    description=\"Press play\",\n",
    "    disabled=False\n",
    ")\n",
    "slider_widget = widgets.IntSlider(max=frame_count)\n",
    "image_widget = widgets.Image(format='png', height=100)\n",
    " \n",
    "slider_widget.observe(on_change)\n",
    "widgets.jslink((play_widget, 'value'), (slider_widget, 'value'))\n",
    "\n",
    "log_widget = widgets.HTML()\n",
    "\n",
    "update_count_widget = widgets.Label()\n",
    "\n",
    "kill_button_widget = widgets.Button(\n",
    "    description='Kill Thread'\n",
    ")\n",
    "kill_button_widget.on_click(kill_thread_click)\n",
    "\n",
    "thread = threading.Thread(target=live_update)\n",
    "thread.start()\n",
    "\n",
    "training_info = widgets.VBox([image_widget,\n",
    "                      widgets.HBox([kill_button_widget, play_widget, slider_widget, update_count_widget]),\n",
    "                      log_widget])\n",
    "\n",
    "sc = Sidecar(title='Training Info')\n",
    "with sc:\n",
    "    display(training_info)"
   ]
  },
  {
   "cell_type": "markdown",
   "metadata": {},
   "source": [
    "## ZeroMQ"
   ]
  },
  {
   "cell_type": "code",
   "execution_count": null,
   "metadata": {},
   "outputs": [],
   "source": [
    "import zmq"
   ]
  },
  {
   "cell_type": "code",
   "execution_count": null,
   "metadata": {},
   "outputs": [],
   "source": [
    "context = zmq.Context()\n",
    "with context.socket(zmq.REQ) as socket:\n",
    "    socket.connect('tcp://127.0.0.1:5555')\n",
    "    socket.send_string('zeromq')\n",
    "    msg = socket.recv()\n",
    "    print(msg)"
   ]
  },
  {
   "cell_type": "markdown",
   "metadata": {},
   "source": [
    "# Logging"
   ]
  },
  {
   "cell_type": "code",
   "execution_count": 1,
   "metadata": {},
   "outputs": [],
   "source": [
    "%load_ext autoreload\n",
    "%autoreload 2\n",
    "from MarkovDecisionProcess import MarkovDecisionProcess\n",
    "import numpy as np\n",
    "import time\n",
    "import json"
   ]
  },
  {
   "cell_type": "code",
   "execution_count": 2,
   "metadata": {},
   "outputs": [],
   "source": [
    "mdp = MarkovDecisionProcess(overwrite=True)"
   ]
  },
  {
   "cell_type": "code",
   "execution_count": 174,
   "metadata": {},
   "outputs": [],
   "source": [
    "mdp.create_log_dir()"
   ]
  },
  {
   "cell_type": "code",
   "execution_count": 175,
   "metadata": {},
   "outputs": [],
   "source": [
    "logger = mdp.setup_logger(\"test\")"
   ]
  },
  {
   "cell_type": "markdown",
   "metadata": {},
   "source": [
    "# Testing New Agent"
   ]
  },
  {
   "cell_type": "code",
   "execution_count": 1,
   "metadata": {},
   "outputs": [
    {
     "data": {
      "text/html": [
       "<script type=\"text/javascript\">window.PlotlyConfig = {MathJaxConfig: 'local'};</script><script type=\"text/javascript\">if (window.MathJax) {MathJax.Hub.Config({SVG: {font: \"STIX-Web\"}});}</script><script>requirejs.config({paths: { 'plotly': ['https://cdn.plot.ly/plotly-latest.min']},});if(!window._Plotly) {require(['plotly'],function(plotly) {window._Plotly=plotly;});}</script>"
      ],
      "text/vnd.plotly.v1+html": [
       "<script type=\"text/javascript\">window.PlotlyConfig = {MathJaxConfig: 'local'};</script><script type=\"text/javascript\">if (window.MathJax) {MathJax.Hub.Config({SVG: {font: \"STIX-Web\"}});}</script><script>requirejs.config({paths: { 'plotly': ['https://cdn.plot.ly/plotly-latest.min']},});if(!window._Plotly) {require(['plotly'],function(plotly) {window._Plotly=plotly;});}</script>"
      ]
     },
     "metadata": {},
     "output_type": "display_data"
    }
   ],
   "source": [
    "%load_ext autoreload\n",
    "%autoreload 2\n",
    "from Agent import Agent\n",
    "from ParallelEnvironment import ParallelEnvironment\n",
    "import gym\n",
    "import time\n",
    "import numpy as np\n",
    "import matplotlib.pyplot as plt\n",
    "import logging\n",
    "import plotly\n",
    "import plotly.graph_objs as go\n",
    "\n",
    "plotly.offline.init_notebook_mode(connected=True)\n",
    "\n",
    "import tensorflow as tf\n",
    "config = tf.ConfigProto()\n",
    "config.gpu_options.allow_growth = True\n",
    "tf.enable_eager_execution(config=config)"
   ]
  },
  {
   "cell_type": "markdown",
   "metadata": {},
   "source": [
    "## Critic Model"
   ]
  },
  {
   "cell_type": "code",
   "execution_count": 877,
   "metadata": {},
   "outputs": [],
   "source": [
    "from Agent import CriticModel"
   ]
  },
  {
   "cell_type": "code",
   "execution_count": 884,
   "metadata": {},
   "outputs": [],
   "source": [
    "input_data = np.array([\n",
    "    [0, 0],\n",
    "    [0, 1],\n",
    "    [1, 0],\n",
    "    [1, 1]\n",
    "])\n",
    "\n",
    "output_data = np.array([\n",
    "    [0],\n",
    "    [1],\n",
    "    [1],\n",
    "    [0]\n",
    "])\n",
    "\n",
    "critic = CriticModel(len(input_data[0]), len(output_data[0]))"
   ]
  },
  {
   "cell_type": "code",
   "execution_count": 885,
   "metadata": {},
   "outputs": [
    {
     "name": "stdout",
     "output_type": "stream",
     "text": [
      "tf.Tensor(-0.22590232, shape=(), dtype=float32)\n",
      "[[0]\n",
      " [1]\n",
      " [1]\n",
      " [0]]\n",
      "tf.Tensor(\n",
      "[[0.24246186]\n",
      " [0.75207293]\n",
      " [0.790524  ]\n",
      " [0.24852876]], shape=(4, 1), dtype=float32)\n"
     ]
    }
   ],
   "source": [
    "for i in range(100):\n",
    "    with tf.GradientTape() as tape:\n",
    "        values = critic(input_data)\n",
    "        critic_loss = -tf.reduce_sum((output_data - values)**2)\n",
    "\n",
    "    critic_grad_tensors = tape.gradient(critic_loss, critic.trainable_weights)\n",
    "    critic_grads = [g.numpy() for g in critic_grad_tensors]\n",
    "    \n",
    "    for w, cg in zip(critic.trainable_weights, critic_grads):\n",
    "        w.assign_add(0.01 * np.array(cg))\n",
    "        \n",
    "print(critic_loss)\n",
    "print(output_data)\n",
    "print(values)"
   ]
  },
  {
   "cell_type": "markdown",
   "metadata": {},
   "source": [
    "## Actor Model"
   ]
  },
  {
   "cell_type": "code",
   "execution_count": 5,
   "metadata": {},
   "outputs": [],
   "source": [
    "from Agent import ActorModel"
   ]
  },
  {
   "cell_type": "code",
   "execution_count": 6,
   "metadata": {},
   "outputs": [],
   "source": [
    "input_data = np.array([\n",
    "    [0, 0],\n",
    "    [0, 1],\n",
    "    [1, 0],\n",
    "    [1, 1]\n",
    "])\n",
    "\n",
    "output_data = np.array([\n",
    "    [1, 0],\n",
    "    [0, 1],\n",
    "    [0, 1],\n",
    "    [1, 0]\n",
    "])"
   ]
  },
  {
   "cell_type": "code",
   "execution_count": 7,
   "metadata": {},
   "outputs": [],
   "source": [
    "actor = ActorModel(3, 3)"
   ]
  },
  {
   "cell_type": "code",
   "execution_count": 8,
   "metadata": {},
   "outputs": [
    {
     "data": {
      "text/plain": [
       "[<matplotlib.lines.Line2D at 0x7f01f8520240>]"
      ]
     },
     "execution_count": 8,
     "metadata": {},
     "output_type": "execute_result"
    },
    {
     "data": {
      "image/png": "[encoded data removed]",
      "text/plain": [
       "<Figure size 432x288 with 1 Axes>"
      ]
     },
     "metadata": {
      "needs_background": "light"
     },
     "output_type": "display_data"
    }
   ],
   "source": [
    "data = []\n",
    "for i in range(100):\n",
    "    state = 1 #np.random.choice(3)\n",
    "    observation = [0,0,0]\n",
    "    observation[state] = 1\n",
    "    \n",
    "    with tf.GradientTape() as tape:\n",
    "        logits = actor([observation])\n",
    "        probs = tf.nn.softmax(logits)\n",
    "        #action = np.random.choice(3, p=probs.numpy()[0])\n",
    "        action = 2\n",
    "        data.append(action)\n",
    "        if action == state:\n",
    "            adv = 1\n",
    "        else:\n",
    "            adv = -1\n",
    "            \n",
    "        mask = np.zeros(3)\n",
    "        mask[action] = adv\n",
    "        actor_loss = tf.log(probs + 1e-10)*mask\n",
    "        \n",
    "    actor_grad_tensors = tape.gradient(actor_loss, actor.trainable_weights)\n",
    "    actor_grads = [g.numpy() for g in actor_grad_tensors]\n",
    "    \n",
    "    for w, ag in zip(actor.trainable_weights, actor_grads):\n",
    "        w.assign_add(0.01*ag)\n",
    "\n",
    "plt.ylim(-1,3)\n",
    "plt.plot(data, 'o')"
   ]
  },
  {
   "cell_type": "code",
   "execution_count": 9,
   "metadata": {},
   "outputs": [
    {
     "data": {
      "image/png": "[encoded data removed]",
      "text/plain": [
       "<Figure size 432x288 with 1 Axes>"
      ]
     },
     "metadata": {
      "needs_background": "light"
     },
     "output_type": "display_data"
    },
    {
     "data": {
      "text/plain": [
       "[<matplotlib.lines.Line2D at 0x7f01f02279b0>]"
      ]
     },
     "execution_count": 9,
     "metadata": {},
     "output_type": "execute_result"
    },
    {
     "data": {
      "image/png": "[encoded data removed]",
      "text/plain": [
       "<Figure size 432x288 with 1 Axes>"
      ]
     },
     "metadata": {
      "needs_background": "light"
     },
     "output_type": "display_data"
    }
   ],
   "source": [
    "data = []\n",
    "rews = [0]\n",
    "for i in range(50):\n",
    "    state = 1 #np.random.choice(3)\n",
    "    observation = [0,0,0]\n",
    "    observation[state] = 1\n",
    "    # [1,0,0]\n",
    "    \n",
    "    with tf.GradientTape() as tape:\n",
    "        logits = actor([observation])\n",
    "        probs = tf.nn.softmax(logits)\n",
    "        action = np.random.choice(3, p=probs.numpy()[0])\n",
    "        data.append(action)\n",
    "        if action == state:\n",
    "            adv = 1\n",
    "        else:\n",
    "            adv = -1\n",
    "            \n",
    "        rews.append(adv + rews[-1])\n",
    "        mask = np.zeros(3)\n",
    "        mask[action] = adv\n",
    "        actor_loss = tf.log(probs + 1e-10)*mask\n",
    "        \n",
    "    actor_grad_tensors = tape.gradient(actor_loss, actor.trainable_weights)\n",
    "    actor_grads = [g.numpy() for g in actor_grad_tensors]\n",
    "    \n",
    "    #for w, ag in zip(actor.trainable_weights, actor_grads):\n",
    "    #    w.assign_add(0.01*ag)\n",
    "\n",
    "plt.ylim(-1,3)\n",
    "plt.plot(data, 'o')\n",
    "plt.show()\n",
    "\n",
    "plt.plot(rews)"
   ]
  },
  {
   "cell_type": "code",
   "execution_count": 2,
   "metadata": {},
   "outputs": [
    {
     "data": {
      "text/html": [
       "<script type=\"text/javascript\">window.PlotlyConfig = {MathJaxConfig: 'local'};</script><script type=\"text/javascript\">if (window.MathJax) {MathJax.Hub.Config({SVG: {font: \"STIX-Web\"}});}</script><script>requirejs.config({paths: { 'plotly': ['https://cdn.plot.ly/plotly-latest.min']},});if(!window._Plotly) {require(['plotly'],function(plotly) {window._Plotly=plotly;});}</script>"
      ],
      "text/vnd.plotly.v1+html": [
       "<script type=\"text/javascript\">window.PlotlyConfig = {MathJaxConfig: 'local'};</script><script type=\"text/javascript\">if (window.MathJax) {MathJax.Hub.Config({SVG: {font: \"STIX-Web\"}});}</script><script>requirejs.config({paths: { 'plotly': ['https://cdn.plot.ly/plotly-latest.min']},});if(!window._Plotly) {require(['plotly'],function(plotly) {window._Plotly=plotly;});}</script>"
      ]
     },
     "metadata": {},
     "output_type": "display_data"
    },
    {
     "ename": "NameError",
     "evalue": "name 'data' is not defined",
     "output_type": "error",
     "traceback": [
      "\u001b[0;31m---------------------------------------------------------------------------\u001b[0m",
      "\u001b[0;31mNameError\u001b[0m                                 Traceback (most recent call last)",
      "\u001b[0;32m<ipython-input-2-ec4198ab0c93>\u001b[0m in \u001b[0;36m<module>\u001b[0;34m\u001b[0m\n\u001b[1;32m      5\u001b[0m \u001b[0;34m\u001b[0m\u001b[0m\n\u001b[1;32m      6\u001b[0m plotly.offline.iplot({\n\u001b[0;32m----> 7\u001b[0;31m     \u001b[0;34m\"data\"\u001b[0m\u001b[0;34m:\u001b[0m \u001b[0;34m[\u001b[0m\u001b[0mgo\u001b[0m\u001b[0;34m.\u001b[0m\u001b[0mScatter\u001b[0m\u001b[0;34m(\u001b[0m\u001b[0mx\u001b[0m\u001b[0;34m=\u001b[0m\u001b[0mnp\u001b[0m\u001b[0;34m.\u001b[0m\u001b[0marange\u001b[0m\u001b[0;34m(\u001b[0m\u001b[0mlen\u001b[0m\u001b[0;34m(\u001b[0m\u001b[0mdata\u001b[0m\u001b[0;34m)\u001b[0m\u001b[0;34m)\u001b[0m\u001b[0;34m,\u001b[0m \u001b[0my\u001b[0m\u001b[0;34m=\u001b[0m\u001b[0mdata\u001b[0m\u001b[0;34m,\u001b[0m \u001b[0mmode\u001b[0m\u001b[0;34m=\u001b[0m\u001b[0;34m'markers'\u001b[0m\u001b[0;34m)\u001b[0m\u001b[0;34m]\u001b[0m\u001b[0;34m,\u001b[0m\u001b[0;34m\u001b[0m\u001b[0;34m\u001b[0m\u001b[0m\n\u001b[0m\u001b[1;32m      8\u001b[0m     \u001b[0;34m\"layout\"\u001b[0m\u001b[0;34m:\u001b[0m \u001b[0mgo\u001b[0m\u001b[0;34m.\u001b[0m\u001b[0mLayout\u001b[0m\u001b[0;34m(\u001b[0m\u001b[0mtitle\u001b[0m\u001b[0;34m=\u001b[0m\u001b[0;34m\"Actions Taken\"\u001b[0m\u001b[0;34m)\u001b[0m\u001b[0;34m\u001b[0m\u001b[0;34m\u001b[0m\u001b[0m\n\u001b[1;32m      9\u001b[0m })\n",
      "\u001b[0;31mNameError\u001b[0m: name 'data' is not defined"
     ]
    }
   ],
   "source": [
    "plotly.offline.iplot({\n",
    "    \"data\": [go.Scatter(x=np.arange(len(data)), y=data, mode='markers')],\n",
    "    \"layout\": go.Layout(title=\"Actions Taken\")\n",
    "})"
   ]
  },
  {
   "cell_type": "code",
   "execution_count": 13,
   "metadata": {},
   "outputs": [],
   "source": [
    "from Agent import ActorCriticModel"
   ]
  },
  {
   "cell_type": "code",
   "execution_count": 14,
   "metadata": {},
   "outputs": [],
   "source": [
    "observations = np.array([\n",
    "    [0, 0],\n",
    "    [0, 1],\n",
    "    [1, 0],\n",
    "    [1, 1]\n",
    "])\n",
    "\n",
    "correct_action = np.array([\n",
    "    [1, 0],\n",
    "    [0, 1],\n",
    "    [0, 1],\n",
    "    [1, 0]\n",
    "])\n",
    "\n",
    "class XOREnv:\n",
    "    def __init__(self, timesteps=10):\n",
    "        self.action_space = gym.spaces.MultiBinary(1)\n",
    "        self.observation_space = gym.spaces.Discrete(2)\n",
    "        \n",
    "        self.observations = np.array([\n",
    "            [0, 0],\n",
    "            [0, 1],\n",
    "            [1, 0],\n",
    "            [1, 1]\n",
    "        ])\n",
    "        \n",
    "        self.actions = np.array([\n",
    "            [1, 0],\n",
    "            [0, 1],\n",
    "            [0, 1],\n",
    "            [1, 0]\n",
    "        ])\n",
    "        \n",
    "        self.timesteps = timesteps\n",
    "\n",
    "    def reset(self):\n",
    "        self.timestep = 0\n",
    "        self.state = np.random.choice(len(self.actions))\n",
    "        return self.observations[self.state]\n",
    "    \n",
    "    def step(self, action):\n",
    "        if action == np.argmax(self.actions[self.state]):\n",
    "            reward = 1\n",
    "        else:\n",
    "            reward = -1\n",
    "            \n",
    "        self.state = np.random.choice(len(self.actions))\n",
    "        \n",
    "        self.timestep += 1\n",
    "        if self.timestep > self.timesteps:\n",
    "            done = True\n",
    "        else:\n",
    "            done = False\n",
    "            \n",
    "        if self.timestep + 1 > self.timesteps:\n",
    "            last_run = True\n",
    "        else:\n",
    "            last_run = False\n",
    "            \n",
    "        return self.observations[self.state], reward, done, { \"last_run\": last_run }"
   ]
  },
  {
   "cell_type": "code",
   "execution_count": 15,
   "metadata": {},
   "outputs": [],
   "source": [
    "class RandomAgent:\n",
    "    def __init__(self, env):\n",
    "        self.env = env\n",
    "        \n",
    "    def step(self, observation):\n",
    "        return np.random.choice(self.env.action_space.n)"
   ]
  },
  {
   "cell_type": "code",
   "execution_count": 16,
   "metadata": {},
   "outputs": [
    {
     "name": "stderr",
     "output_type": "stream",
     "text": [
      "DEBUG:root:         step: 0\n",
      "DEBUG:root:       action: 0\n",
      "DEBUG:root:     next_obs: [1 0]\n",
      "DEBUG:root:       reward: 1\n",
      "DEBUG:root:         done: False\n",
      "DEBUG:root:         info: {'last_run': False}\n",
      "DEBUG:root: total_reward: 1\n",
      "DEBUG:root:          ...\n",
      "\n",
      "INFO:root: Total Reward: 1\n"
     ]
    }
   ],
   "source": [
    "env = XOREnv()\n",
    "agent = RandomAgent(env)\n",
    "\n",
    "obs = agent.env.reset()\n",
    "done = False\n",
    "step = 0\n",
    "rewards = []\n",
    "logger = logging.getLogger()\n",
    "logger.setLevel(logging.DEBUG)\n",
    "while not done:\n",
    "    logging.debug(f\"{'step':>13}: {step}\")\n",
    "    action = agent.step(obs)\n",
    "    logging.debug(f\"{'action':>13}: {action}\")\n",
    "    \n",
    "    next_obs, reward, done, info = agent.env.step(action)\n",
    "    logging.debug(f\"{'next_obs':>13}: {next_obs}\")\n",
    "    logging.debug(f\"{'reward':>13}: {reward}\")\n",
    "    logging.debug(f\"{'done':>13}: {done}\")\n",
    "    logging.debug(f\"{'info':>13}: {info}\")\n",
    "    \n",
    "    step += 1\n",
    "    rewards.append(reward)\n",
    "    total_reward = np.sum(rewards)\n",
    "    logging.debug(f\"{'total_reward':>13}: {total_reward}\")\n",
    "    logging.debug(f\"{'...':>13}\\n\")\n",
    "    logger.setLevel(logging.INFO)\n",
    "    \n",
    "logging.info(\" Total Reward: {}\".format(np.sum(rewards)))"
   ]
  },
  {
   "cell_type": "code",
   "execution_count": 886,
   "metadata": {},
   "outputs": [],
   "source": [
    "from tensorflow.python import keras\n",
    "from tensorflow.python.keras import layers\n",
    "\n",
    "class ActorCriticModel(keras.Model):\n",
    "    def __init__(self, state_size, action_size):\n",
    "        super(ActorCriticModel, self).__init__()\n",
    "        self.state_size = state_size\n",
    "        self.action_size = action_size\n",
    "        \n",
    "        self.policy_dense_1 = layers.Dense(128, activation='relu')\n",
    "        self.policy_dense_2 = layers.Dense(128, activation='relu')\n",
    "        self.policy_logits = layers.Dense(action_size)\n",
    "        \n",
    "        self.value_dense_1 = layers.Dense(128, activation='relu')\n",
    "        self.value_dense_2 = layers.Dense(128, activation='relu')\n",
    "        self.values = layers.Dense(1)\n",
    "\n",
    "    def call(self, inputs):\n",
    "        x = self.policy_dense_1(inputs)\n",
    "        x = self.policy_dense_2(x)\n",
    "        logits = self.policy_logits(x)\n",
    "        \n",
    "        y = self.value_dense_1(inputs)\n",
    "        y = self.value_dense_2(y)\n",
    "        values = self.values(y)\n",
    "        \n",
    "        return logits, values\n",
    "    \n",
    "class HyperParameters:\n",
    "    def __init__(self, **kw):\n",
    "        self.gamma = 0.99\n",
    "        self.vf_coef = 0.5\n",
    "        self.ent_coef = 0.01\n",
    "        self.lr = 0.001\n",
    "        self.__dict__.update(kw)"
   ]
  },
  {
   "cell_type": "code",
   "execution_count": 887,
   "metadata": {},
   "outputs": [],
   "source": [
    "def get_log(_v):\n",
    "    if _v:\n",
    "        return lambda *args, **kargs: ([None, ] + [[print(f\"{arg}\") for arg in args] + [print(f\"{key}:\\t{kargs[key]}\") for key in kargs]])[0]\n",
    "    else:\n",
    "        return lambda *args, **kargs: None\n",
    "    \n",
    "def moving_average(a, n=3) :\n",
    "    ret = np.cumsum(a, dtype=float)\n",
    "    ret[n:] = ret[n:] - ret[:-n]\n",
    "    return ret[n - 1:] / n"
   ]
  },
  {
   "cell_type": "code",
   "execution_count": 1028,
   "metadata": {},
   "outputs": [],
   "source": [
    "def loss(a2c, observations, actions, discounted_rewards, hyperparameters, verbose=False, *args, **kargs):\n",
    "    log = get_log(verbose)\n",
    "    hp = hyperparameters\n",
    "    \n",
    "    logits, values = a2c(tf.convert_to_tensor(observations, dtype=tf.float32))\n",
    "    values = tf.squeeze(values)\n",
    "    log(logits=logits, actions=actions)\n",
    "\n",
    "    log(discounted_rewards=discounted_rewards, values=values)\n",
    "    \n",
    "    #discounted_rewards -= np.mean(discounted_rewards)\n",
    "    #discounted_rewards /= np.std(discounted_rewards)\n",
    "    #log(discounted_rewards_normalized=discounted_rewards, values=values)\n",
    "    \n",
    "    discounted_rewards = tf.convert_to_tensor(np.array(discounted_rewards), dtype=tf.float32)\n",
    "    advantages =  tf.stop_gradient(discounted_rewards) - values\n",
    "    log(advantages=advantages)\n",
    "    \n",
    "    critic_loss = advantages ** 2\n",
    "    log(critic_loss=critic_loss)\n",
    "\n",
    "    policy = tf.nn.softmax(logits)\n",
    "    log(policy=policy)\n",
    "    \n",
    "    entropy = tf.nn.softmax_cross_entropy_with_logits_v2(labels=policy, logits=logits)\n",
    "    log(entropy=entropy)\n",
    "\n",
    "    actor_loss = tf.nn.sparse_softmax_cross_entropy_with_logits(labels=actions, logits=logits)\n",
    "    log(actor_loss=actor_loss)\n",
    "    \n",
    "    actor_loss *= tf.stop_gradient(advantages)\n",
    "    log(actor_loss_advs=actor_loss)\n",
    "    \n",
    "    actor_loss -= hp.ent_coef * entropy\n",
    "    log(actor_loss_entropy = actor_loss)\n",
    "\n",
    "    total_loss = tf.reduce_mean(hp.vf_coef * critic_loss + actor_loss)\n",
    "    log(total_loss=total_loss)\n",
    "    log('')\n",
    "    \n",
    "    return total_loss"
   ]
  },
  {
   "cell_type": "code",
   "execution_count": 1020,
   "metadata": {},
   "outputs": [],
   "source": [
    "def run(env, a2c, verbose=False, *args, **kargs):\n",
    "    log = get_log(verbose)\n",
    "    obs = env.reset()\n",
    "    done = False\n",
    "    rewards = []\n",
    "    actions = []\n",
    "    observations = []\n",
    "        \n",
    "    while not done:\n",
    "        log(obs=obs)\n",
    "        \n",
    "        logits, _ = a2c(tf.convert_to_tensor(obs[None, :], dtype=tf.float32))\n",
    "        log(logits=logits.numpy()[:3])\n",
    "\n",
    "        probs = tf.nn.softmax(logits)\n",
    "        log(probs=probs[0].numpy())\n",
    "\n",
    "        action = np.random.choice(env.action_space.n, p=probs.numpy()[0])\n",
    "        log(action=action)\n",
    "\n",
    "        next_obs, reward, done, info = env.step(action)\n",
    "        log(next_obs=next_obs, reward=reward, done=done, info=info)\n",
    "        \n",
    "        if done:\n",
    "            reward = -1\n",
    "        \n",
    "        observations.append(obs)\n",
    "        actions.append(action)\n",
    "        rewards.append(reward)\n",
    "        \n",
    "        obs = next_obs\n",
    "        \n",
    "        total_reward = np.sum(rewards)\n",
    "        log(total_reward=total_reward)\n",
    "        log('')\n",
    "            \n",
    "        if done:\n",
    "            return observations, actions, rewards"
   ]
  },
  {
   "cell_type": "code",
   "execution_count": 1021,
   "metadata": {},
   "outputs": [],
   "source": [
    "def get_discounted_rewards(rewards, gamma=0.99):\n",
    "    discounted_rewards = []\n",
    "    reward_sum = 0\n",
    "    for reward in rewards[::-1]:\n",
    "        reward_sum = reward + gamma * reward_sum\n",
    "        discounted_rewards.append(reward_sum)\n",
    "    discounted_rewards.reverse()\n",
    "    return discounted_rewards"
   ]
  },
  {
   "cell_type": "code",
   "execution_count": 1022,
   "metadata": {},
   "outputs": [],
   "source": [
    "def learn(a2c, observations, actions, discounted_rewards, hyperparameters, *args, **kargs):\n",
    "    opt = tf.train.AdamOptimizer(hp.lr, use_locking=True)\n",
    "    with tf.GradientTape() as tape:\n",
    "        total_loss = loss(a2c, observations, actions, discounted_rewards, hyperparameters=hp, **kargs)\n",
    "\n",
    "    grads = tape.gradient(total_loss, a2c.trainable_weights)\n",
    "    opt.apply_gradients(zip(grads, a2c.trainable_weights))"
   ]
  },
  {
   "cell_type": "code",
   "execution_count": 1036,
   "metadata": {},
   "outputs": [
    {
     "data": {
      "text/plain": [
       "(<tf.Tensor: id=23255191, shape=(1, 2), dtype=float32, numpy=array([[-0.03126905, -0.01601789]], dtype=float32)>,\n",
       " <tf.Tensor: id=23255277, shape=(1, 1), dtype=float32, numpy=array([[-0.04017325]], dtype=float32)>)"
      ]
     },
     "execution_count": 1036,
     "metadata": {},
     "output_type": "execute_result"
    }
   ],
   "source": [
    "env = gym.make('CartPole-v0')\n",
    "#env = gym.make('LunarLander-v2')\n",
    "a2c = ActorCriticModel(env.observation_space.shape[0], env.action_space.n)\n",
    "a2c(tf.convert_to_tensor(np.random.random((1, a2c.state_size)), dtype=tf.float32))"
   ]
  },
  {
   "cell_type": "code",
   "execution_count": 1037,
   "metadata": {},
   "outputs": [
    {
     "name": "stdout",
     "output_type": "stream",
     "text": [
      "Ep 12 (0.233s): 17.7\n",
      "Ep 22 (10.200s): 24.3\n",
      "Ep 28 (20.360s): 35.9\n",
      "Ep 33 (30.587s): 54.3\n",
      "Ep 38 (40.628s): 55.4\n",
      "Ep 41 (50.759s): 67.9\n",
      "Ep 44 (60.992s): 88.3\n",
      "Ep 46 (71.186s): 103.3\n",
      "Ep 49 (81.446s): 118.4\n",
      "Ep 52 (91.840s): 128.5\n",
      "Ep 54 (102.179s): 120.3\n",
      "Ep 56 (112.607s): 125.4\n",
      "Ep 58 (122.996s): 139.1\n",
      "Ep 62 (133.254s): 118.0\n",
      "Ep 64 (143.596s): 126.7\n",
      "Ep 66 (154.085s): 134.3\n",
      "Ep 68 (164.557s): 138.1\n",
      "Ep 71 (174.989s): 148.3\n",
      "Ep 73 (185.381s): 159.9\n",
      "Ep 77 (195.648s): 114.9\n",
      "Ep 79 (206.149s): 132.9\n",
      "Ep 81 (216.732s): 147.6\n",
      "Ep 85 (227.273s): 122.3\n",
      "Ep 87 (237.835s): 145.9\n",
      "Ep 89 (248.326s): 142.6\n",
      "Ep 91 (258.853s): 130.0\n",
      "Ep 93 (269.453s): 152.3\n",
      "Ep 97 (280.156s): 134.9\n",
      "Ep 99 (290.868s): 138.2\n",
      "301.15050196647644\n"
     ]
    }
   ],
   "source": [
    "hp = HyperParameters(gamma = 0.99, vf_coef = 0.5, ent_coef = 0.001, lr = 0.001)\n",
    "\n",
    "start_time = time.time()\n",
    "batch = {\n",
    "    \"observations\": [],\n",
    "    \"actions\": [],\n",
    "    \"discounted_rewards\": []\n",
    "}\n",
    "\n",
    "ep_rewards = []\n",
    "episodes = 100\n",
    "episode = 0\n",
    "epochs = 8\n",
    "while episode < episodes:\n",
    "    observations, actions, rewards = run(env, a2c, verbose=0)\n",
    "    ep_rewards.append(np.sum(rewards))\n",
    "    \n",
    "    # Calculate True Discounted Rewards\n",
    "    discounted_rewards = get_discounted_rewards(rewards, hp.gamma)\n",
    "    \n",
    "    batch['observations'] += observations\n",
    "    batch['actions'] += actions\n",
    "    batch['discounted_rewards'] += discounted_rewards\n",
    "\n",
    "    if len(batch['observations']) >= 256:\n",
    "        print(f\"Ep {episode} ({time.time() - start_time:.3f}s): {np.mean(ep_rewards[-10:])}\")\n",
    "        for epoch in range(epochs):\n",
    "            learn(a2c, hyperparameters=hp, lock_actor=True, **batch)\n",
    "        batch = {\n",
    "            \"observations\": [],\n",
    "            \"actions\": [],\n",
    "            \"discounted_rewards\": []\n",
    "        }\n",
    "    episode += 1\n",
    "    \n",
    "end_time = time.time()\n",
    "print(end_time - start_time)"
   ]
  },
  {
   "cell_type": "code",
   "execution_count": 1039,
   "metadata": {},
   "outputs": [
    {
     "name": "stdout",
     "output_type": "stream",
     "text": [
      "logits:\t[[ 1.7029045  -2.0605555 ]\n",
      " [-0.4118427  -0.27743432]\n",
      " [ 1.5147092  -1.8788798 ]\n",
      " [-0.6991964  -0.0260778 ]\n",
      " [ 1.2579803  -1.6434644 ]\n",
      " [-1.0261612   0.2591939 ]\n",
      " [ 0.921202   -1.334415  ]\n",
      " [-1.3878974   0.56951994]\n",
      " [ 0.48865157 -0.94783276]\n",
      " [-1.7856042   0.9195998 ]\n",
      " [-0.02020607 -0.50096774]\n",
      " [ 1.5421662  -1.8395466 ]\n",
      " [-0.48037657 -0.10502855]\n",
      " [-2.4958608   1.5311723 ]\n",
      " [-4.0719905   2.704411  ]\n",
      " [-2.9720194   1.9318401 ]\n",
      " [-1.8213202   1.0688751 ]\n",
      " [-0.26083964 -0.22227055]\n",
      " [ 0.90556526 -1.2233462 ]\n",
      " [-0.9148572   0.35937557]\n",
      " [-2.7984996   1.8566984 ]\n",
      " [-1.6817425   1.0259321 ]\n",
      " [-0.43423268 -0.03218229]\n",
      " [-2.2753992   1.5137691 ]\n",
      " [-1.145052    0.6046353 ]\n",
      " [-0.24347931 -0.17958538]\n",
      " [-1.7723469   1.1483848 ]\n",
      " [-0.88159555  0.3778185 ]\n",
      " [-0.24895999 -0.15955412]\n",
      " [ 0.25770053 -0.6361865 ]\n",
      " [-0.8034176   0.31936702]\n",
      " [-1.9907376   1.3338486 ]\n",
      " [-1.3403051   0.78116816]\n",
      " [-0.6882224   0.2206825 ]\n",
      " [-1.8407077   1.21372   ]\n",
      " [-1.1666616   0.6372691 ]\n",
      " [-0.5880825   0.105331  ]\n",
      " [-0.05410361 -0.4155167 ]\n",
      " [-0.9174742   0.39995092]\n",
      " [-0.3337413  -0.16392663]\n",
      " [ 0.24569297 -0.74449295]\n",
      " [-0.49318376 -0.02665849]\n",
      " [ 0.14821991 -0.6663155 ]\n",
      " [-0.52801895 -0.00687882]\n",
      " [ 0.15139657 -0.6902927 ]\n",
      " [-0.43405795 -0.11244868]\n",
      " [ 0.29021275 -0.8438388 ]\n",
      " [ 0.91987234 -1.518088  ]\n",
      " [ 0.617168   -1.1809051 ]\n",
      " [ 1.2749343  -1.8930799 ]\n",
      " [ 1.0778403  -1.653052  ]\n",
      " [ 0.81648403 -1.3686203 ]\n",
      " [ 0.5303508  -1.0716792 ]\n",
      " [ 0.2244469  -0.76998764]\n",
      " [-0.19260365 -0.38828197]\n",
      " [ 0.92306024 -1.4377841 ]]\n",
      "actions:\t[0, 1, 0, 1, 0, 1, 0, 1, 0, 1, 1, 0, 0, 0, 1, 1, 1, 1, 0, 0, 1, 1, 0, 1, 1, 0, 1, 1, 1, 0, 0, 1, 1, 0, 1, 1, 1, 0, 1, 1, 0, 1, 0, 1, 0, 1, 1, 0, 1, 0, 0, 0, 0, 0, 1, 0]\n",
      "discounted_rewards:\t[41.889170252330196, 41.3021921740709, 40.70928502431404, 40.110388913448524, 39.5054433469177, 38.894387219108786, 38.27715880718059, 37.65369576482888, 37.02393511598877, 36.387813248473506, 35.745265907549, 35.09622818944343, 34.44063453479134, 33.77841872201146, 33.10951386061763, 32.433852384462256, 31.751366044911375, 31.061985903950884, 30.365642327223114, 29.662264976993043, 28.95178280504348, 28.234124045498465, 27.50921620757421, 26.776986068256775, 26.037359664905832, 25.29026228778367, 24.53561847250876, 23.77335199243309, 23.003385850942514, 22.22564227367931, 21.44004270068617, 20.64650777847088, 19.84495735199079, 19.035310456556353, 18.217485309652883, 17.39139930267968, 16.55696899260574, 15.714110093541152, 14.862737468223386, 14.002765119417562, 13.13410618122986, 12.256672910333192, 11.370376677104234, 10.475127956670944, 9.57083631986964, 8.657410424110747, 7.734758004152269, 6.80278586278007, 5.86139986139401, 4.910504910499, 3.9500049601, 2.97980299, 1.9998010000000002, 1.0099, 0.010000000000000009, -1.0]\n",
      "values:\t[50.135345 53.841354 50.671036 54.409943 51.28506  55.069054 51.99062\n",
      " 55.851315 52.801216 56.759293 53.734146 50.581234 54.450607 58.703903\n",
      " 65.53906  60.482414 57.335945 54.5244   51.499016 55.533794 59.663628\n",
      " 56.97117  54.097973 58.24181  55.4425   52.541004 56.569355 53.66042\n",
      " 51.70148  51.504036 51.825397 55.07852  52.347702 51.51122  52.69967\n",
      " 51.529037 52.263832 54.183853 51.482548 53.307278 56.03962  52.189842\n",
      " 55.048115 51.126427 54.137768 50.18104  53.31911  56.519897 52.31611\n",
      " 55.56409  51.3522   47.437176 43.75105  41.176388 39.874138 40.56757 ]\n",
      "advantages:\t[ -8.246174 -12.539162  -9.96175  -14.299553 -11.779617 -16.174667\n",
      " -13.713459 -18.19762  -15.777283 -20.371479 -17.98888  -15.485004\n",
      " -20.009972 -24.925484 -32.42955  -28.048561 -25.58458  -23.462414\n",
      " -21.133373 -25.871529 -30.711845 -28.737045 -26.588757 -31.464825\n",
      " -29.405142 -27.250742 -32.033737 -29.887068 -28.698095 -29.278393\n",
      " -30.385355 -34.432014 -32.502747 -32.475906 -34.482185 -34.137638\n",
      " -35.706863 -38.46974  -36.619812 -39.304512 -42.905514 -39.93317\n",
      " -43.67774  -40.6513   -44.566933 -41.523632 -45.584354 -49.71711\n",
      " -46.45471  -50.653587 -47.402195 -44.457375 -41.751247 -40.16649\n",
      " -39.86414  -41.56757 ]\n",
      "critic_loss:\t[  67.99938  157.23058   99.23646  204.47722  138.75938  261.61987\n",
      "  188.05896  331.15338  248.92264  414.99716  323.59982  239.78535\n",
      "  400.39896  621.2797  1051.6758   786.72174  654.5707   550.48486\n",
      "  446.61948  669.33594  943.2174   825.8178   706.962    990.0352\n",
      "  864.66235  742.6029  1026.1604   893.2368   823.5807   857.22424\n",
      "  923.2698  1185.5636  1056.4286  1054.6846  1189.0211  1165.3783\n",
      " 1274.9801  1479.9211  1341.0106  1544.8446  1840.883   1594.6581\n",
      " 1907.7448  1652.5282  1986.2114  1724.212   2077.9336  2471.7908\n",
      " 2158.0398  2565.7861  2246.9678  1976.4581  1743.1666  1613.3468\n",
      " 1589.1498  1727.8628 ]\n",
      "policy:\t[[0.9773228  0.02267713]\n",
      " [0.4664484  0.5335516 ]\n",
      " [0.96750355 0.03249643]\n",
      " [0.3377989  0.66220117]\n",
      " [0.9479178  0.05208218]\n",
      " [0.21664004 0.78336   ]\n",
      " [0.90513396 0.09486606]\n",
      " [0.12374682 0.8762531 ]\n",
      " [0.8079096  0.19209035]\n",
      " [0.06266698 0.93733305]\n",
      " [0.61792773 0.38207227]\n",
      " [0.9671281  0.03287189]\n",
      " [0.4072494  0.5927506 ]\n",
      " [0.01751491 0.9824851 ]\n",
      " [0.00113907 0.99886096]\n",
      " [0.00736328 0.9926367 ]\n",
      " [0.05264037 0.9473596 ]\n",
      " [0.49035892 0.5096411 ]\n",
      " [0.89368165 0.10631837]\n",
      " [0.21853353 0.7814665 ]\n",
      " [0.0094224  0.9905776 ]\n",
      " [0.06252201 0.93747795]\n",
      " [0.40081984 0.5991802 ]\n",
      " [0.0221143  0.9778857 ]\n",
      " [0.14808665 0.8519134 ]\n",
      " [0.48403195 0.5159681 ]\n",
      " [0.05113819 0.9488618 ]\n",
      " [0.22107477 0.77892524]\n",
      " [0.47766343 0.5223366 ]\n",
      " [0.70969164 0.29030833]\n",
      " [0.24549513 0.7545049 ]\n",
      " [0.0347373  0.9652627 ]\n",
      " [0.10702717 0.8929728 ]\n",
      " [0.28722396 0.712776  ]\n",
      " [0.0450267  0.95497334]\n",
      " [0.14137325 0.8586267 ]\n",
      " [0.33327416 0.6667259 ]\n",
      " [0.58938247 0.41061753]\n",
      " [0.211247   0.788753  ]\n",
      " [0.45764804 0.54235196]\n",
      " [0.7291246  0.27087536]\n",
      " [0.385439   0.614561  ]\n",
      " [0.6930751  0.30692488]\n",
      " [0.37258565 0.62741435]\n",
      " [0.6988209  0.30117914]\n",
      " [0.42028362 0.5797164 ]\n",
      " [0.7565858  0.24341418]\n",
      " [0.91967654 0.08032344]\n",
      " [0.8579142  0.14208579]\n",
      " [0.9596127  0.04038732]\n",
      " [0.93882513 0.0611749 ]\n",
      " [0.8989039  0.10109611]\n",
      " [0.8323019  0.16769807]\n",
      " [0.72996294 0.27003706]\n",
      " [0.54876405 0.45123592]\n",
      " [0.9137923  0.08620766]]\n",
      "entropy:\t[0.10828274 0.6908941  0.1433157  0.63956463 0.20460108 0.52262235\n",
      " 0.3136538  0.37432438 0.48923987 0.23424357 0.66506946 0.14458764\n",
      " 0.6758418  0.08820322 0.00885852 0.04349902 0.20621747 0.6929612\n",
      " 0.3387481  0.52504563 0.05333026 0.2338513  0.67334265 0.10615725\n",
      " 0.41937575 0.6926371  0.20185307 0.52826494 0.692149   0.60242754\n",
      " 0.5573317  0.15084212 0.34025446 0.59964734 0.18360266 0.40744853\n",
      " 0.6364732  0.6770824  0.5156042  0.6895555  0.5841276  0.6666641\n",
      " 0.61661804 0.6603174  0.61186004 0.68038344 0.55498356 0.27955863\n",
      " 0.40873182 0.1691731  0.23018812 0.3274847  0.45221734 0.58329564\n",
      " 0.6883838  0.29367483]\n",
      "actor_loss:\t[2.29382683e-02 6.28199518e-01 3.30361798e-02 4.12185907e-01\n",
      " 5.34874946e-02 2.44162947e-01 9.96722952e-02 1.32100239e-01\n",
      " 2.13305086e-01 6.47165924e-02 9.62145448e-01 3.34243216e-02\n",
      " 8.98329556e-01 4.04470301e+00 1.13970635e-03 7.39053963e-03\n",
      " 5.40765077e-02 6.74048543e-01 1.12405673e-01 1.52081585e+00\n",
      " 9.46711190e-03 6.45620450e-02 9.14243221e-01 2.23624464e-02\n",
      " 1.60270408e-01 7.25604296e-01 5.24921417e-02 2.49840215e-01\n",
      " 6.49443090e-01 3.42924684e-01 1.40447807e+00 3.53549607e-02\n",
      " 1.13199145e-01 1.24749303e+00 4.60718609e-02 1.52420998e-01\n",
      " 4.05376345e-01 5.28679907e-01 2.37302080e-01 6.11840129e-01\n",
      " 3.15910608e-01 4.86847043e-01 3.66616845e-01 4.66148078e-01\n",
      " 3.58360827e-01 5.45216322e-01 1.41299093e+00 8.37332457e-02\n",
      " 1.95132422e+00 4.12255079e-02 6.31260648e-02 1.06579155e-01\n",
      " 1.83560014e-01 3.14761490e-01 7.95765042e-01 9.01519582e-02]\n",
      "actor_loss_advs:\t[-1.8915294e-01 -7.8770952e+00 -3.2909817e-01 -5.8940740e+00\n",
      " -6.3006222e-01 -3.9492545e+00 -1.3668519e+00 -2.4039099e+00\n",
      " -3.3653746e+00 -1.3183727e+00 -1.7307919e+01 -5.1757574e-01\n",
      " -1.7975550e+01 -1.0081618e+02 -3.6960166e-02 -2.0729400e-01\n",
      " -1.3835247e+00 -1.5814806e+01 -2.3755109e+00 -3.9345829e+01\n",
      " -2.9075247e-01 -1.8553224e+00 -2.4308590e+01 -7.0363045e-01\n",
      " -4.7127743e+00 -1.9773256e+01 -1.6815195e+00 -7.4669914e+00\n",
      " -1.8637779e+01 -1.0040283e+01 -4.2675564e+01 -1.2173425e+00\n",
      " -3.6792831e+00 -4.0513466e+01 -1.5886585e+00 -5.2032928e+00\n",
      " -1.4474718e+01 -2.0338179e+01 -8.6899576e+00 -2.4048079e+01\n",
      " -1.3554307e+01 -1.9441345e+01 -1.6012995e+01 -1.8949524e+01\n",
      " -1.5971043e+01 -2.2639362e+01 -6.4410278e+01 -4.1629748e+00\n",
      " -9.0648201e+01 -2.0882199e+00 -2.9923141e+00 -4.7382293e+00\n",
      " -7.6638594e+00 -1.2642864e+01 -3.1722488e+01 -3.7473979e+00]\n",
      "actor_loss_entropy:\t[-1.8926123e-01 -7.8777862e+00 -3.2924148e-01 -5.8947134e+00\n",
      " -6.3026685e-01 -3.9497771e+00 -1.3671656e+00 -2.4042842e+00\n",
      " -3.3658638e+00 -1.3186070e+00 -1.7308584e+01 -5.1772034e-01\n",
      " -1.7976225e+01 -1.0081627e+02 -3.6969025e-02 -2.0733750e-01\n",
      " -1.3837309e+00 -1.5815499e+01 -2.3758497e+00 -3.9346355e+01\n",
      " -2.9080579e-01 -1.8555562e+00 -2.4309263e+01 -7.0373660e-01\n",
      " -4.7131934e+00 -1.9773949e+01 -1.6817213e+00 -7.4675198e+00\n",
      " -1.8638472e+01 -1.0040886e+01 -4.2676121e+01 -1.2174933e+00\n",
      " -3.6796234e+00 -4.0514065e+01 -1.5888420e+00 -5.2037001e+00\n",
      " -1.4475354e+01 -2.0338856e+01 -8.6904736e+00 -2.4048769e+01\n",
      " -1.3554892e+01 -1.9442013e+01 -1.6013611e+01 -1.8950184e+01\n",
      " -1.5971655e+01 -2.2640043e+01 -6.4410835e+01 -4.1632543e+00\n",
      " -9.0648613e+01 -2.0883892e+00 -2.9925442e+00 -4.7385569e+00\n",
      " -7.6643114e+00 -1.2643448e+01 -3.1723177e+01 -3.7476916e+00]\n",
      "total_loss:\t517.9414672851562\n",
      "\n"
     ]
    }
   ],
   "source": [
    "observations, actions, rewards = run(env, a2c, verbose=False)\n",
    "discounted_rewards = get_discounted_rewards(rewards, hp.gamma)\n",
    "learn(a2c, observations, actions, discounted_rewards, hyperparameters=hp, verbose=True)"
   ]
  },
  {
   "cell_type": "code",
   "execution_count": 1038,
   "metadata": {},
   "outputs": [
    {
     "data": {
      "application/vnd.plotly.v1+json": {
       "config": {
        "linkText": "Export to plot.ly",
        "plotlyServerURL": "https://plot.ly",
        "showLink": false
       },
       "data": [
        {
         "type": "scatter",
         "uid": "2be2ef36-7f03-4b3c-bb85-94ff92c1feb7",
         "x": [
          0,
          1,
          2,
          3,
          4,
          5,
          6,
          7,
          8,
          9,
          10,
          11,
          12,
          13,
          14,
          15,
          16,
          17,
          18,
          19,
          20,
          21,
          22,
          23,
          24,
          25,
          26,
          27,
          28,
          29,
          30,
          31,
          32,
          33,
          34,
          35,
          36,
          37,
          38,
          39,
          40,
          41,
          42,
          43,
          44,
          45,
          46,
          47,
          48,
          49,
          50,
          51,
          52,
          53,
          54,
          55,
          56,
          57,
          58,
          59,
          60,
          61,
          62,
          63,
          64,
          65,
          66,
          67,
          68,
          69,
          70,
          71,
          72,
          73,
          74,
          75,
          76,
          77,
          78,
          79,
          80,
          81,
          82,
          83,
          84,
          85,
          86,
          87,
          88,
          89,
          90,
          91,
          92,
          93,
          94,
          95,
          96,
          97,
          98,
          99
         ],
         "y": [
          17.8,
          17.9,
          18.4,
          17.7,
          17.9,
          17.7,
          16.7,
          18.3,
          21,
          22.2,
          21.8,
          21.1,
          22.3,
          24.3,
          24.9,
          30.7,
          32.1,
          31.7,
          36.1,
          35.9,
          37.6,
          45,
          47,
          48.3,
          54.3,
          52.7,
          56.6,
          59.5,
          54.1,
          55.4,
          59.8,
          56.7,
          67.9,
          67.5,
          73.7,
          88.3,
          91.5,
          103.3,
          110.7,
          116.3,
          118.4,
          126.4,
          114.9,
          128.5,
          126.9,
          120.3,
          125.1,
          125.4,
          134.1,
          139.1,
          135,
          124.1,
          127.4,
          118,
          125,
          126.7,
          131.6,
          134.3,
          134.3,
          138.1,
          135.7,
          152.5,
          148.3,
          159.9,
          159.9,
          149,
          138.5,
          121.7,
          114.9,
          116.5,
          132.9,
          132.4,
          147.6,
          137.7,
          120.5,
          121.3,
          122.3,
          139.1,
          145.9,
          145.9,
          142.6,
          136.9,
          130,
          139.9,
          152.3,
          155.8,
          150.4,
          134.9,
          134.9,
          134.9,
          138.2
         ]
        }
       ],
       "layout": {
        "autosize": true,
        "title": {
         "text": "Reward Per Episode"
        },
        "xaxis": {
         "autorange": true,
         "range": [
          0,
          90
         ],
         "type": "linear"
        },
        "yaxis": {
         "autorange": true,
         "range": [
          8.744444444444444,
          167.85555555555555
         ],
         "type": "linear"
        }
       }
      },
      "image/png": "[encoded data removed]",
      "text/html": [
       "<div id=\"1f0ebaa8-674a-4741-b01a-add62d4eae26\" style=\"height: 525px; width: 100%;\" class=\"plotly-graph-div\"></div><script type=\"text/javascript\">require([\"plotly\"], function(Plotly) { window.PLOTLYENV=window.PLOTLYENV || {};window.PLOTLYENV.BASE_URL=\"https://plot.ly\";Plotly.newPlot(\"1f0ebaa8-674a-4741-b01a-add62d4eae26\", [{\"x\": [0, 1, 2, 3, 4, 5, 6, 7, 8, 9, 10, 11, 12, 13, 14, 15, 16, 17, 18, 19, 20, 21, 22, 23, 24, 25, 26, 27, 28, 29, 30, 31, 32, 33, 34, 35, 36, 37, 38, 39, 40, 41, 42, 43, 44, 45, 46, 47, 48, 49, 50, 51, 52, 53, 54, 55, 56, 57, 58, 59, 60, 61, 62, 63, 64, 65, 66, 67, 68, 69, 70, 71, 72, 73, 74, 75, 76, 77, 78, 79, 80, 81, 82, 83, 84, 85, 86, 87, 88, 89, 90, 91, 92, 93, 94, 95, 96, 97, 98, 99], \"y\": [17.8, 17.9, 18.4, 17.7, 17.9, 17.7, 16.7, 18.3, 21.0, 22.2, 21.8, 21.1, 22.3, 24.3, 24.9, 30.7, 32.1, 31.7, 36.1, 35.9, 37.6, 45.0, 47.0, 48.3, 54.3, 52.7, 56.6, 59.5, 54.1, 55.4, 59.8, 56.7, 67.9, 67.5, 73.7, 88.3, 91.5, 103.3, 110.7, 116.3, 118.4, 126.4, 114.9, 128.5, 126.9, 120.3, 125.1, 125.4, 134.1, 139.1, 135.0, 124.1, 127.4, 118.0, 125.0, 126.7, 131.6, 134.3, 134.3, 138.1, 135.7, 152.5, 148.3, 159.9, 159.9, 149.0, 138.5, 121.7, 114.9, 116.5, 132.9, 132.4, 147.6, 137.7, 120.5, 121.3, 122.3, 139.1, 145.9, 145.9, 142.6, 136.9, 130.0, 139.9, 152.3, 155.8, 150.4, 134.9, 134.9, 134.9, 138.2], \"type\": \"scatter\", \"uid\": \"0fc59b77-03a9-4bfe-b936-bb593a26ce52\"}], {\"title\": {\"text\": \"Reward Per Episode\"}}, {\"showLink\": false, \"linkText\": \"Export to plot.ly\", \"plotlyServerURL\": \"https://plot.ly\"})});</script><script type=\"text/javascript\">window.addEventListener(\"resize\", function(){window._Plotly.Plots.resize(document.getElementById(\"1f0ebaa8-674a-4741-b01a-add62d4eae26\"));});</script>"
      ],
      "text/vnd.plotly.v1+html": [
       "<div id=\"1f0ebaa8-674a-4741-b01a-add62d4eae26\" style=\"height: 525px; width: 100%;\" class=\"plotly-graph-div\"></div><script type=\"text/javascript\">require([\"plotly\"], function(Plotly) { window.PLOTLYENV=window.PLOTLYENV || {};window.PLOTLYENV.BASE_URL=\"https://plot.ly\";Plotly.newPlot(\"1f0ebaa8-674a-4741-b01a-add62d4eae26\", [{\"x\": [0, 1, 2, 3, 4, 5, 6, 7, 8, 9, 10, 11, 12, 13, 14, 15, 16, 17, 18, 19, 20, 21, 22, 23, 24, 25, 26, 27, 28, 29, 30, 31, 32, 33, 34, 35, 36, 37, 38, 39, 40, 41, 42, 43, 44, 45, 46, 47, 48, 49, 50, 51, 52, 53, 54, 55, 56, 57, 58, 59, 60, 61, 62, 63, 64, 65, 66, 67, 68, 69, 70, 71, 72, 73, 74, 75, 76, 77, 78, 79, 80, 81, 82, 83, 84, 85, 86, 87, 88, 89, 90, 91, 92, 93, 94, 95, 96, 97, 98, 99], \"y\": [17.8, 17.9, 18.4, 17.7, 17.9, 17.7, 16.7, 18.3, 21.0, 22.2, 21.8, 21.1, 22.3, 24.3, 24.9, 30.7, 32.1, 31.7, 36.1, 35.9, 37.6, 45.0, 47.0, 48.3, 54.3, 52.7, 56.6, 59.5, 54.1, 55.4, 59.8, 56.7, 67.9, 67.5, 73.7, 88.3, 91.5, 103.3, 110.7, 116.3, 118.4, 126.4, 114.9, 128.5, 126.9, 120.3, 125.1, 125.4, 134.1, 139.1, 135.0, 124.1, 127.4, 118.0, 125.0, 126.7, 131.6, 134.3, 134.3, 138.1, 135.7, 152.5, 148.3, 159.9, 159.9, 149.0, 138.5, 121.7, 114.9, 116.5, 132.9, 132.4, 147.6, 137.7, 120.5, 121.3, 122.3, 139.1, 145.9, 145.9, 142.6, 136.9, 130.0, 139.9, 152.3, 155.8, 150.4, 134.9, 134.9, 134.9, 138.2], \"type\": \"scatter\", \"uid\": \"0fc59b77-03a9-4bfe-b936-bb593a26ce52\"}], {\"title\": {\"text\": \"Reward Per Episode\"}}, {\"showLink\": false, \"linkText\": \"Export to plot.ly\", \"plotlyServerURL\": \"https://plot.ly\"})});</script><script type=\"text/javascript\">window.addEventListener(\"resize\", function(){window._Plotly.Plots.resize(document.getElementById(\"1f0ebaa8-674a-4741-b01a-add62d4eae26\"));});</script>"
      ]
     },
     "metadata": {},
     "output_type": "display_data"
    }
   ],
   "source": [
    "plotly.offline.iplot({\n",
    "    \"data\": [go.Scatter(x=np.arange(len(ep_rewards)), y=moving_average(ep_rewards, 10))],\n",
    "    \"layout\": go.Layout(title=\"Reward Per Episode\")\n",
    "})"
   ]
  },
  {
   "cell_type": "code",
   "execution_count": null,
   "metadata": {},
   "outputs": [],
   "source": []
  }
 ],
 "metadata": {
  "kernelspec": {
   "display_name": "Python [conda env:tensorflow]",
   "language": "python",
   "name": "conda-env-tensorflow-py"
  },
  "language_info": {
   "codemirror_mode": {
    "name": "ipython",
    "version": 3
   },
   "file_extension": ".py",
   "mimetype": "text/x-python",
   "name": "python",
   "nbconvert_exporter": "python",
   "pygments_lexer": "ipython3",
   "version": "3.6.8"
  }
 },
 "nbformat": 4,
 "nbformat_minor": 2
}
