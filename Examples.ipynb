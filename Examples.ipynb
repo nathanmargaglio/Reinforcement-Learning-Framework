{
 "cells": [
  {
   "cell_type": "code",
   "execution_count": null,
   "metadata": {},
   "outputs": [
    {
     "name": "stdout",
     "output_type": "stream",
     "text": [
      "\u001b[33mWARN: gym.spaces.Box autodetected dtype as <class 'numpy.float32'>. Please provide explicit dtype.\u001b[0m\n"
     ]
    }
   ],
   "source": [
    "for i in range(10):\n",
    "    start_time = time.time()\n",
    "    envs = [lambda: gym.make('CartPole-v0') for x in range(1)]\n",
    "    venv = ParallelEnvironment(envs)\n",
    "    agent = PPOAgent(venv, buffer_size=64)\n",
    "    agent.run(50)\n",
    "    print(\"{:.3f}\".format(time.time() - start_time))"
   ]
  },
  {
   "cell_type": "code",
   "execution_count": null,
   "metadata": {},
   "outputs": [],
   "source": [
    "import threading\n",
    "from IPython.display import display\n",
    "import ipywidgets as widgets\n",
    "from sidecar import Sidecar"
   ]
  },
  {
   "cell_type": "code",
   "execution_count": null,
   "metadata": {},
   "outputs": [],
   "source": [
    "run_dir = \"./runs/agent-27/data/\"\n",
    "line_limit = 10\n",
    "log_path = run_dir + 'agent.txt'\n",
    "log_val = []\n",
    "kill_thread = False\n",
    "last_frame_count = 0\n",
    "empty_frame_count = 0\n",
    "\n",
    "def update_log():\n",
    "    log_val = ['<li><code style=\"font-size: 10px;\">{}</code></li>'.format(line) for \n",
    "               line in list(open(log_path))[-line_limit:]]\n",
    "    log_widget.value = '<ul style=\"list-style-type: none; padding: 0;\">' + ''.join(log_val) + '</ul>'\n",
    "    \n",
    "def on_change(x):\n",
    "    if (x['name'] == 'value'):\n",
    "        update_image(x['new'])\n",
    "        \n",
    "def kill_thread_click(x):\n",
    "    global kill_thread\n",
    "    kill_thread = True\n",
    "        \n",
    "def live_update():\n",
    "    global last_frame_count\n",
    "    global empty_frame_count\n",
    "    while True:\n",
    "        update_count_widget.value = \"Last Update: \" + time.strftime('%c')\n",
    "        update_log()\n",
    "        if last_frame_count == frame_count:\n",
    "            empty_frame_count += 1\n",
    "        else:\n",
    "            last_frame_count = frame_count\n",
    "            empty_frame_count = 0\n",
    "        if empty_frame_count > 10 or kill_thread:\n",
    "            update_count_widget.value = 'Halted: ' + time.strftime('%c')\n",
    "            break\n",
    "        time.sleep(1)\n",
    "\n",
    "play_widget = widgets.Play(\n",
    "    interval=250,\n",
    "    value=frame_count,\n",
    "    min=0,\n",
    "    max=frame_count,\n",
    "    step=1,\n",
    "    description=\"Press play\",\n",
    "    disabled=False\n",
    ")\n",
    "slider_widget = widgets.IntSlider(max=frame_count)\n",
    "image_widget = widgets.Image(format='png', height=100)\n",
    " \n",
    "slider_widget.observe(on_change)\n",
    "widgets.jslink((play_widget, 'value'), (slider_widget, 'value'))\n",
    "\n",
    "log_widget = widgets.HTML()\n",
    "\n",
    "update_count_widget = widgets.Label()\n",
    "\n",
    "kill_button_widget = widgets.Button(\n",
    "    description='Kill Thread'\n",
    ")\n",
    "kill_button_widget.on_click(kill_thread_click)\n",
    "\n",
    "thread = threading.Thread(target=live_update)\n",
    "thread.start()\n",
    "\n",
    "training_info = widgets.VBox([image_widget,\n",
    "                      widgets.HBox([kill_button_widget, play_widget, slider_widget, update_count_widget]),\n",
    "                      log_widget])\n",
    "\n",
    "sc = Sidecar(title='Training Info')\n",
    "with sc:\n",
    "    display(training_info)"
   ]
  },
  {
   "cell_type": "markdown",
   "metadata": {},
   "source": [
    "## ZeroMQ"
   ]
  },
  {
   "cell_type": "code",
   "execution_count": null,
   "metadata": {},
   "outputs": [],
   "source": [
    "import zmq"
   ]
  },
  {
   "cell_type": "code",
   "execution_count": null,
   "metadata": {},
   "outputs": [],
   "source": [
    "context = zmq.Context()\n",
    "with context.socket(zmq.REQ) as socket:\n",
    "    socket.connect('tcp://127.0.0.1:5555')\n",
    "    socket.send_string('zeromq')\n",
    "    msg = socket.recv()\n",
    "    print(msg)"
   ]
  },
  {
   "cell_type": "markdown",
   "metadata": {},
   "source": [
    "# Logging"
   ]
  },
  {
   "cell_type": "code",
   "execution_count": 1,
   "metadata": {},
   "outputs": [],
   "source": [
    "%load_ext autoreload\n",
    "%autoreload 2\n",
    "from MarkovDecisionProcess import MarkovDecisionProcess\n",
    "import numpy as np\n",
    "import time\n",
    "import json"
   ]
  },
  {
   "cell_type": "code",
   "execution_count": 2,
   "metadata": {},
   "outputs": [],
   "source": [
    "mdp = MarkovDecisionProcess(overwrite=True)"
   ]
  },
  {
   "cell_type": "code",
   "execution_count": 174,
   "metadata": {},
   "outputs": [],
   "source": [
    "mdp.create_log_dir()"
   ]
  },
  {
   "cell_type": "code",
   "execution_count": 175,
   "metadata": {},
   "outputs": [],
   "source": [
    "logger = mdp.setup_logger(\"test\")"
   ]
  },
  {
   "cell_type": "markdown",
   "metadata": {},
   "source": [
    "# Testing New Agent"
   ]
  },
  {
   "cell_type": "code",
   "execution_count": 1,
   "metadata": {},
   "outputs": [],
   "source": [
    "%load_ext autoreload\n",
    "%autoreload 2\n",
    "from Agent import Agent\n",
    "from ParallelEnvironment import ParallelEnvironment\n",
    "import gym\n",
    "import time\n",
    "import numpy as np\n",
    "import matplotlib.pyplot as plt\n",
    "\n",
    "import tensorflow as tf\n",
    "config = tf.ConfigProto()\n",
    "config.gpu_options.allow_growth = True\n",
    "tf.enable_eager_execution(config=config)"
   ]
  },
  {
   "cell_type": "markdown",
   "metadata": {},
   "source": [
    "## Critic Model"
   ]
  },
  {
   "cell_type": "code",
   "execution_count": 2,
   "metadata": {},
   "outputs": [],
   "source": [
    "from Agent import CriticModel"
   ]
  },
  {
   "cell_type": "code",
   "execution_count": 283,
   "metadata": {},
   "outputs": [],
   "source": [
    "input_data = np.array([\n",
    "    [0, 0],\n",
    "    [0, 1],\n",
    "    [1, 0],\n",
    "    [1, 1]\n",
    "])\n",
    "\n",
    "output_data = np.array([\n",
    "    [0],\n",
    "    [1],\n",
    "    [1],\n",
    "    [0]\n",
    "])\n",
    "\n",
    "critic = CriticModel(len(input_data[0]), len(output_data[0]))"
   ]
  },
  {
   "cell_type": "code",
   "execution_count": 287,
   "metadata": {},
   "outputs": [
    {
     "name": "stdout",
     "output_type": "stream",
     "text": [
      "tf.Tensor(-0.0005360946, shape=(), dtype=float32)\n",
      "[[0]\n",
      " [1]\n",
      " [1]\n",
      " [0]]\n",
      "tf.Tensor(\n",
      "[[0.02063299]\n",
      " [0.99328744]\n",
      " [0.9926334 ]\n",
      " [0.00332403]], shape=(4, 1), dtype=float32)\n"
     ]
    }
   ],
   "source": [
    "for i in range(100):\n",
    "    with tf.GradientTape() as tape:\n",
    "        values = critic(input_data)\n",
    "        critic_loss = -tf.reduce_sum((output_data - values)**2)\n",
    "\n",
    "    critic_grad_tensors = tape.gradient(critic_loss, critic.trainable_weights)\n",
    "    critic_grads = [g.numpy() for g in critic_grad_tensors]\n",
    "    \n",
    "    for w, cg in zip(critic.trainable_weights, critic_grads):\n",
    "        w.assign_add(0.01 * np.array(cg))\n",
    "        \n",
    "print(critic_loss)\n",
    "print(output_data)\n",
    "print(values)"
   ]
  },
  {
   "cell_type": "markdown",
   "metadata": {},
   "source": [
    "## Actor Model"
   ]
  },
  {
   "cell_type": "code",
   "execution_count": 288,
   "metadata": {},
   "outputs": [],
   "source": [
    "from Agent import ActorModel"
   ]
  },
  {
   "cell_type": "code",
   "execution_count": 289,
   "metadata": {},
   "outputs": [],
   "source": [
    "input_data = np.array([\n",
    "    [0, 0],\n",
    "    [0, 1],\n",
    "    [1, 0],\n",
    "    [1, 1]\n",
    "])\n",
    "\n",
    "output_data = np.array([\n",
    "    [1, 0],\n",
    "    [0, 1],\n",
    "    [0, 1],\n",
    "    [1, 0]\n",
    "])"
   ]
  },
  {
   "cell_type": "code",
   "execution_count": 525,
   "metadata": {},
   "outputs": [],
   "source": [
    "actor = ActorModel(3, 3)"
   ]
  },
  {
   "cell_type": "code",
   "execution_count": 549,
   "metadata": {},
   "outputs": [
    {
     "data": {
      "text/plain": [
       "[<matplotlib.lines.Line2D at 0x7fa141ed4b38>]"
      ]
     },
     "execution_count": 549,
     "metadata": {},
     "output_type": "execute_result"
    },
    {
     "data": {
      "image/png": "[encoded data removed]",
      "text/plain": [
       "<Figure size 432x288 with 1 Axes>"
      ]
     },
     "metadata": {
      "needs_background": "light"
     },
     "output_type": "display_data"
    }
   ],
   "source": [
    "data = []\n",
    "for i in range(100):\n",
    "    state = 0 #np.random.choice(3)\n",
    "    observation = [0,0,0]\n",
    "    observation[state] = 1\n",
    "    \n",
    "    with tf.GradientTape() as tape:\n",
    "        logits = actor([observation])\n",
    "        probs = tf.nn.softmax(logits)\n",
    "        action = np.random.choice(3, p=probs.numpy()[0])\n",
    "        data.append(action)\n",
    "        if action == state:\n",
    "            adv = 1\n",
    "        else:\n",
    "            adv = -1\n",
    "            \n",
    "        mask = np.zeros(3)\n",
    "        mask[action] = adv\n",
    "        actor_loss = tf.log(probs)*mask\n",
    "        \n",
    "    actor_grad_tensors = tape.gradient(actor_loss, actor.trainable_weights)\n",
    "    actor_grads = [g.numpy() for g in actor_grad_tensors]\n",
    "    \n",
    "    for w, ag in zip(actor.trainable_weights, actor_grads):\n",
    "        w.assign_add(0.01*ag)\n",
    "\n",
    "plt.ylim(-1,3)\n",
    "plt.plot(data, 'o')"
   ]
  },
  {
   "cell_type": "code",
   "execution_count": 563,
   "metadata": {},
   "outputs": [
    {
     "data": {
      "image/png": "[encoded data removed]",
      "text/plain": [
       "<Figure size 432x288 with 1 Axes>"
      ]
     },
     "metadata": {
      "needs_background": "light"
     },
     "output_type": "display_data"
    },
    {
     "data": {
      "text/plain": [
       "[<matplotlib.lines.Line2D at 0x7fa140f79c50>]"
      ]
     },
     "execution_count": 563,
     "metadata": {},
     "output_type": "execute_result"
    },
    {
     "data": {
      "image/png": "[encoded data removed]",
      "text/plain": [
       "<Figure size 432x288 with 1 Axes>"
      ]
     },
     "metadata": {
      "needs_background": "light"
     },
     "output_type": "display_data"
    }
   ],
   "source": [
    "data = []\n",
    "rews = [0]\n",
    "for i in range(100):\n",
    "    state = np.random.choice(3)\n",
    "    observation = [0,0,0]\n",
    "    observation[state] = 1\n",
    "    \n",
    "    with tf.GradientTape() as tape:\n",
    "        logits = actor([observation])\n",
    "        probs = tf.nn.softmax(logits)\n",
    "        action = np.random.choice(3, p=probs.numpy()[0])\n",
    "        data.append(action)\n",
    "        if action == state:\n",
    "            adv = 1\n",
    "        else:\n",
    "            adv = -1\n",
    "            \n",
    "        rews.append(adv + rews[-1])\n",
    "        mask = np.zeros(3)\n",
    "        mask[action] = adv\n",
    "        actor_loss = tf.log(probs)*mask\n",
    "        \n",
    "    actor_grad_tensors = tape.gradient(actor_loss, actor.trainable_weights)\n",
    "    actor_grads = [g.numpy() for g in actor_grad_tensors]\n",
    "    \n",
    "    #for w, ag in zip(actor.trainable_weights, actor_grads):\n",
    "    #    w.assign_add(0.01*ag)\n",
    "\n",
    "plt.ylim(-1,3)\n",
    "plt.plot(data, 'o')\n",
    "plt.show()\n",
    "\n",
    "plt.plot(rews)"
   ]
  },
  {
   "cell_type": "code",
   "execution_count": null,
   "metadata": {},
   "outputs": [],
   "source": []
  },
  {
   "cell_type": "code",
   "execution_count": 218,
   "metadata": {},
   "outputs": [
    {
     "name": "stdout",
     "output_type": "stream",
     "text": [
      "Ep: 99, Rew: 15.0\n",
      "Ep: 199, Rew: 22.0\n",
      "Ep: 299, Rew: 35.0\n",
      "Ep: 399, Rew: 36.0\n",
      "Ep: 499, Rew: 57.0\n"
     ]
    }
   ],
   "source": [
    "env = gym.make('CartPole-v0')\n",
    "agent = Agent(env)\n",
    "agent.train(500)"
   ]
  },
  {
   "cell_type": "code",
   "execution_count": 52,
   "metadata": {},
   "outputs": [
    {
     "data": {
      "text/plain": [
       "[<matplotlib.lines.Line2D at 0x7f53c01716a0>]"
      ]
     },
     "execution_count": 52,
     "metadata": {},
     "output_type": "execute_result"
    },
    {
     "data": {
      "image/png": "[encoded data removed]",
      "text/plain": [
       "<Figure size 432x288 with 1 Axes>"
      ]
     },
     "metadata": {
      "needs_background": "light"
     },
     "output_type": "display_data"
    }
   ],
   "source": [
    "plt.plot(agent.episode_rews)"
   ]
  },
  {
   "cell_type": "code",
   "execution_count": null,
   "metadata": {},
   "outputs": [],
   "source": []
  }
 ],
 "metadata": {
  "kernelspec": {
   "display_name": "Python [conda env:tensorflow]",
   "language": "python",
   "name": "conda-env-tensorflow-py"
  },
  "language_info": {
   "codemirror_mode": {
    "name": "ipython",
    "version": 3
   },
   "file_extension": ".py",
   "mimetype": "text/x-python",
   "name": "python",
   "nbconvert_exporter": "python",
   "pygments_lexer": "ipython3",
   "version": "3.6.8"
  }
 },
 "nbformat": 4,
 "nbformat_minor": 2
}
