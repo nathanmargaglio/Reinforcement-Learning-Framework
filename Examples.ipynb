{
 "cells": [
  {
   "cell_type": "code",
   "execution_count": null,
   "metadata": {},
   "outputs": [
    {
     "name": "stdout",
     "output_type": "stream",
     "text": [
      "\u001b[33mWARN: gym.spaces.Box autodetected dtype as <class 'numpy.float32'>. Please provide explicit dtype.\u001b[0m\n"
     ]
    }
   ],
   "source": [
    "for i in range(10):\n",
    "    start_time = time.time()\n",
    "    envs = [lambda: gym.make('CartPole-v0') for x in range(1)]\n",
    "    venv = ParallelEnvironment(envs)\n",
    "    agent = PPOAgent(venv, buffer_size=64)\n",
    "    agent.run(50)\n",
    "    print(\"{:.3f}\".format(time.time() - start_time))"
   ]
  },
  {
   "cell_type": "code",
   "execution_count": null,
   "metadata": {},
   "outputs": [],
   "source": [
    "import threading\n",
    "from IPython.display import display\n",
    "import ipywidgets as widgets\n",
    "from sidecar import Sidecar"
   ]
  },
  {
   "cell_type": "code",
   "execution_count": null,
   "metadata": {},
   "outputs": [],
   "source": [
    "run_dir = \"./runs/agent-27/data/\"\n",
    "line_limit = 10\n",
    "log_path = run_dir + 'agent.txt'\n",
    "log_val = []\n",
    "kill_thread = False\n",
    "last_frame_count = 0\n",
    "empty_frame_count = 0\n",
    "\n",
    "def update_log():\n",
    "    log_val = ['<li><code style=\"font-size: 10px;\">{}</code></li>'.format(line) for \n",
    "               line in list(open(log_path))[-line_limit:]]\n",
    "    log_widget.value = '<ul style=\"list-style-type: none; padding: 0;\">' + ''.join(log_val) + '</ul>'\n",
    "    \n",
    "def on_change(x):\n",
    "    if (x['name'] == 'value'):\n",
    "        update_image(x['new'])\n",
    "        \n",
    "def kill_thread_click(x):\n",
    "    global kill_thread\n",
    "    kill_thread = True\n",
    "        \n",
    "def live_update():\n",
    "    global last_frame_count\n",
    "    global empty_frame_count\n",
    "    while True:\n",
    "        update_count_widget.value = \"Last Update: \" + time.strftime('%c')\n",
    "        update_log()\n",
    "        if last_frame_count == frame_count:\n",
    "            empty_frame_count += 1\n",
    "        else:\n",
    "            last_frame_count = frame_count\n",
    "            empty_frame_count = 0\n",
    "        if empty_frame_count > 10 or kill_thread:\n",
    "            update_count_widget.value = 'Halted: ' + time.strftime('%c')\n",
    "            break\n",
    "        time.sleep(1)\n",
    "\n",
    "play_widget = widgets.Play(\n",
    "    interval=250,\n",
    "    value=frame_count,\n",
    "    min=0,\n",
    "    max=frame_count,\n",
    "    step=1,\n",
    "    description=\"Press play\",\n",
    "    disabled=False\n",
    ")\n",
    "slider_widget = widgets.IntSlider(max=frame_count)\n",
    "image_widget = widgets.Image(format='png', height=100)\n",
    " \n",
    "slider_widget.observe(on_change)\n",
    "widgets.jslink((play_widget, 'value'), (slider_widget, 'value'))\n",
    "\n",
    "log_widget = widgets.HTML()\n",
    "\n",
    "update_count_widget = widgets.Label()\n",
    "\n",
    "kill_button_widget = widgets.Button(\n",
    "    description='Kill Thread'\n",
    ")\n",
    "kill_button_widget.on_click(kill_thread_click)\n",
    "\n",
    "thread = threading.Thread(target=live_update)\n",
    "thread.start()\n",
    "\n",
    "training_info = widgets.VBox([image_widget,\n",
    "                      widgets.HBox([kill_button_widget, play_widget, slider_widget, update_count_widget]),\n",
    "                      log_widget])\n",
    "\n",
    "sc = Sidecar(title='Training Info')\n",
    "with sc:\n",
    "    display(training_info)"
   ]
  },
  {
   "cell_type": "markdown",
   "metadata": {},
   "source": [
    "## ZeroMQ"
   ]
  },
  {
   "cell_type": "code",
   "execution_count": null,
   "metadata": {},
   "outputs": [],
   "source": [
    "import zmq"
   ]
  },
  {
   "cell_type": "code",
   "execution_count": null,
   "metadata": {},
   "outputs": [],
   "source": [
    "context = zmq.Context()\n",
    "with context.socket(zmq.REQ) as socket:\n",
    "    socket.connect('tcp://127.0.0.1:5555')\n",
    "    socket.send_string('zeromq')\n",
    "    msg = socket.recv()\n",
    "    print(msg)"
   ]
  },
  {
   "cell_type": "markdown",
   "metadata": {},
   "source": [
    "# Logging"
   ]
  },
  {
   "cell_type": "code",
   "execution_count": 1,
   "metadata": {},
   "outputs": [],
   "source": [
    "%load_ext autoreload\n",
    "%autoreload 2\n",
    "from MarkovDecisionProcess import MarkovDecisionProcess\n",
    "import numpy as np\n",
    "import time\n",
    "import json"
   ]
  },
  {
   "cell_type": "code",
   "execution_count": 2,
   "metadata": {},
   "outputs": [],
   "source": [
    "mdp = MarkovDecisionProcess(overwrite=True)"
   ]
  },
  {
   "cell_type": "code",
   "execution_count": 174,
   "metadata": {},
   "outputs": [],
   "source": [
    "mdp.create_log_dir()"
   ]
  },
  {
   "cell_type": "code",
   "execution_count": 175,
   "metadata": {},
   "outputs": [],
   "source": [
    "logger = mdp.setup_logger(\"test\")"
   ]
  },
  {
   "cell_type": "markdown",
   "metadata": {},
   "source": [
    "# Testing New Agent"
   ]
  },
  {
   "cell_type": "code",
   "execution_count": 3,
   "metadata": {},
   "outputs": [
    {
     "name": "stdout",
     "output_type": "stream",
     "text": [
      "The autoreload extension is already loaded. To reload it, use:\n",
      "  %reload_ext autoreload\n"
     ]
    }
   ],
   "source": [
    "%load_ext autoreload\n",
    "%autoreload 2\n",
    "from Agent import Agent\n",
    "from ParallelEnvironment import ParallelEnvironment\n",
    "import gym\n",
    "import time\n",
    "import numpy as np\n",
    "import tensorflow as tf\n",
    "import matplotlib.pyplot as plt"
   ]
  },
  {
   "cell_type": "code",
   "execution_count": 4,
   "metadata": {},
   "outputs": [
    {
     "name": "stdout",
     "output_type": "stream",
     "text": [
      "Ep: 9, Rew: 12.0\n",
      "Ep: 19, Rew: 62.0\n",
      "Ep: 29, Rew: 200.0\n",
      "Ep: 39, Rew: 149.0\n",
      "Ep: 49, Rew: 183.0\n",
      "Ep: 59, Rew: 200.0\n",
      "Ep: 69, Rew: 176.0\n",
      "Ep: 79, Rew: 174.0\n",
      "Ep: 89, Rew: 200.0\n",
      "Ep: 99, Rew: 200.0\n"
     ]
    }
   ],
   "source": [
    "env = gym.make('CartPole-v0')\n",
    "agent = Agent(env)\n",
    "agent.train()"
   ]
  },
  {
   "cell_type": "code",
   "execution_count": 2,
   "metadata": {},
   "outputs": [],
   "source": [
    "def make_session(num_cpu=None):\n",
    "    tf_config = tf.ConfigProto(\n",
    "        allow_soft_placement=True,\n",
    "        inter_op_parallelism_threads=num_cpu,\n",
    "        intra_op_parallelism_threads=num_cpu)\n",
    "    # Prevent tensorflow from taking all the gpu memory\n",
    "    tf_config.gpu_options.allow_growth = True\n",
    "    return tf.Session(config=tf_config)"
   ]
  },
  {
   "cell_type": "code",
   "execution_count": null,
   "metadata": {},
   "outputs": [],
   "source": []
  }
 ],
 "metadata": {
  "kernelspec": {
   "display_name": "Python [conda env:tensorflow]",
   "language": "python",
   "name": "conda-env-tensorflow-py"
  },
  "language_info": {
   "codemirror_mode": {
    "name": "ipython",
    "version": 3
   },
   "file_extension": ".py",
   "mimetype": "text/x-python",
   "name": "python",
   "nbconvert_exporter": "python",
   "pygments_lexer": "ipython3",
   "version": "3.6.8"
  }
 },
 "nbformat": 4,
 "nbformat_minor": 2
}
